{
 "cells": [
  {
   "cell_type": "code",
   "execution_count": null,
   "id": "0d64ad87",
   "metadata": {},
   "outputs": [
    {
     "name": "stdout",
     "output_type": "stream",
     "text": [
      "test\n"
     ]
    }
   ],
   "source": [
    "import numpy as np\n",
    "import librosa\n",
    "import soundfile as sf\n",
    "import pandas as pd\n",
    "import random"
   ]
  },
  {
   "attachments": {},
   "cell_type": "markdown",
   "id": "05385aa2",
   "metadata": {},
   "source": [
    "## Audio Augmentation\n"
   ]
  },
  {
   "cell_type": "code",
   "execution_count": null,
   "id": "14cab5e6",
   "metadata": {},
   "outputs": [],
   "source": [
    "def ruido_blanco(audio,factor): #~ 0.1\n",
    "    ruido = np.random.normal(0, audio.std(), audio.size)\n",
    "    nuevo_audio = audio + ruido * factor\n",
    "    return nuevo_audio"
   ]
  },
  {
   "cell_type": "code",
   "execution_count": null,
   "id": "9b78c2a7",
   "metadata": {},
   "outputs": [],
   "source": [
    "def cambio_velocidad(audio, factor): # 1 = originial speed 0.8 -1.2 max range \n",
    "    nuevo_audio = librosa.effects.time_stretch(audio, rate = factor)\n",
    "    return nuevo_audio\n"
   ]
  },
  {
   "cell_type": "code",
   "execution_count": null,
   "id": "284cc936",
   "metadata": {},
   "outputs": [],
   "source": [
    "def pitch_scaling(audio, sr, num): #num = pecenio integer -4 - 4\n",
    "    nuevo_audio = librosa.effects.pitch_shift(audio,sr,num)\n",
    "    return nuevo_audio"
   ]
  },
  {
   "cell_type": "code",
   "execution_count": null,
   "id": "7842685c",
   "metadata": {},
   "outputs": [],
   "source": [
    "def inversion_polaridad(audio):\n",
    "    nuevo_audio = audio * -1\n",
    "    return nuevo_audio"
   ]
  },
  {
   "cell_type": "code",
   "execution_count": null,
   "id": "8df2c897",
   "metadata": {},
   "outputs": [],
   "source": [
    "def randomgain(audio,min_factor,max_factor):\n",
    "    gain_factor = random.uniform(min_factor, max_factor)\n",
    "    nuevo_audio = audio * gain_factor\n",
    "    return nuevo_audio\n"
   ]
  },
  {
   "attachments": {},
   "cell_type": "markdown",
   "id": "222ad456",
   "metadata": {},
   "source": [
    "## Implement Augmentation\n"
   ]
  },
  {
   "cell_type": "code",
   "execution_count": null,
   "id": "557e8793",
   "metadata": {},
   "outputs": [],
   "source": [
    "augmentations_num = 100\n",
    "def implementation(audio_df, augmentations_num):\n",
    "    to_be_augmented = audio_df.sample(augmentations_num)\n",
    "\n",
    "    for each i in to_be_augmented:\n",
    "        audio, sr = librosa.load(to_be_augmented[i].Path_audios)\n",
    "        rand = random.randint(1,5)\n",
    "        if rand == 1:\n",
    "            x = ruido_blanco(audio, 0.1)\n",
    "            audio_df.append(x)\n",
    "        if rand == 2:\n",
    "            x = cambio_velocidad(audio, 1.1)\n",
    "            audio_df.append(x)\n",
    "        if rand == 3:\n",
    "            x = pitch_scaling(audio, 2)\n",
    "            audio_df.append(x)\n",
    "        if rand == 4:\n",
    "            x = inversion_poleridad(audio)\n",
    "            audio_df.append(x)\n",
    "        else:\n",
    "            x = randomgain(audio, -1,1)\n",
    "            audio_df.append(x)\n",
    "        \n",
    "        \n",
    "        augmented_audio = ruido_blanco(audio, 0.1)\n",
    "    "
   ]
  }
 ],
 "metadata": {
  "kernelspec": {
   "display_name": "Python 3 (ipykernel)",
   "language": "python",
   "name": "python3"
  },
  "language_info": {
   "codemirror_mode": {
    "name": "ipython",
    "version": 3
   },
   "file_extension": ".py",
   "mimetype": "text/x-python",
   "name": "python",
   "nbconvert_exporter": "python",
   "pygments_lexer": "ipython3",
   "version": "3.10.6"
  },
  "toc": {
   "base_numbering": 1,
   "nav_menu": {},
   "number_sections": true,
   "sideBar": true,
   "skip_h1_title": false,
   "title_cell": "Table of Contents",
   "title_sidebar": "Contents",
   "toc_cell": false,
   "toc_position": {},
   "toc_section_display": true,
   "toc_window_display": false
  },
  "varInspector": {
   "cols": {
    "lenName": 16,
    "lenType": 16,
    "lenVar": 40
   },
   "kernels_config": {
    "python": {
     "delete_cmd_postfix": "",
     "delete_cmd_prefix": "del ",
     "library": "var_list.py",
     "varRefreshCmd": "print(var_dic_list())"
    },
    "r": {
     "delete_cmd_postfix": ") ",
     "delete_cmd_prefix": "rm(",
     "library": "var_list.r",
     "varRefreshCmd": "cat(var_dic_list()) "
    }
   },
   "types_to_exclude": [
    "module",
    "function",
    "builtin_function_or_method",
    "instance",
    "_Feature"
   ],
   "window_display": false
  }
 },
 "nbformat": 4,
 "nbformat_minor": 5
}
