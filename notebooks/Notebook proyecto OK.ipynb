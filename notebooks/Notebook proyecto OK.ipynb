{
 "cells": [
  {
   "cell_type": "code",
   "execution_count": 1,
   "id": "9b17d616",
   "metadata": {},
   "outputs": [
    {
     "name": "stderr",
     "output_type": "stream",
     "text": [
      "2023-07-04 15:04:47.622275: I tensorflow/core/platform/cpu_feature_guard.cc:193] This TensorFlow binary is optimized with oneAPI Deep Neural Network Library (oneDNN) to use the following CPU instructions in performance-critical operations:  AVX2 AVX512F AVX512_VNNI FMA\n",
      "To enable them in other operations, rebuild TensorFlow with the appropriate compiler flags.\n",
      "2023-07-04 15:04:51.054672: I tensorflow/core/util/util.cc:169] oneDNN custom operations are on. You may see slightly different numerical results due to floating-point round-off errors from different computation orders. To turn them off, set the environment variable `TF_ENABLE_ONEDNN_OPTS=0`.\n",
      "2023-07-04 15:04:54.597360: W tensorflow/stream_executor/platform/default/dso_loader.cc:64] Could not load dynamic library 'libcudart.so.11.0'; dlerror: libcudart.so.11.0: cannot open shared object file: No such file or directory\n",
      "2023-07-04 15:04:54.597399: I tensorflow/stream_executor/cuda/cudart_stub.cc:29] Ignore above cudart dlerror if you do not have a GPU set up on your machine.\n",
      "2023-07-04 15:04:55.008700: E tensorflow/stream_executor/cuda/cuda_blas.cc:2981] Unable to register cuBLAS factory: Attempting to register factory for plugin cuBLAS when one has already been registered\n",
      "2023-07-04 15:05:09.280057: W tensorflow/stream_executor/platform/default/dso_loader.cc:64] Could not load dynamic library 'libnvinfer.so.7'; dlerror: libnvinfer.so.7: cannot open shared object file: No such file or directory\n",
      "2023-07-04 15:05:09.280348: W tensorflow/stream_executor/platform/default/dso_loader.cc:64] Could not load dynamic library 'libnvinfer_plugin.so.7'; dlerror: libnvinfer_plugin.so.7: cannot open shared object file: No such file or directory\n",
      "2023-07-04 15:05:09.280364: W tensorflow/compiler/tf2tensorrt/utils/py_utils.cc:38] TF-TRT Warning: Cannot dlopen some TensorRT libraries. If you would like to use Nvidia GPU with TensorRT, please make sure the missing libraries mentioned above are installed properly.\n"
     ]
    }
   ],
   "source": [
    "import os\n",
    "import IPython.display as ipd\n",
    "\n",
    "import pandas as pd\n",
    "import numpy as np\n",
    "from sklearn.preprocessing import LabelEncoder\n",
    "\n",
    "from tensorflow.keras import utils\n",
    "import tensorflow as tf\n",
    "from tensorflow.keras import datasets, layers, models\n",
    "from keras.callbacks import Callback\n",
    "from time import time\n",
    "from sklearn.model_selection import train_test_split\n",
    "from sklearn.metrics import confusion_matrix, classification_report\n",
    "\n",
    "import seaborn as sns"
   ]
  },
  {
   "cell_type": "code",
   "execution_count": 2,
   "id": "a99e14f7",
   "metadata": {},
   "outputs": [
    {
     "name": "stdout",
     "output_type": "stream",
     "text": [
      "/home/fll_data_bata/code/Franloplam\r\n"
     ]
    }
   ],
   "source": [
    "!pwd"
   ]
  },
  {
   "cell_type": "code",
   "execution_count": 3,
   "id": "3a4398ab",
   "metadata": {},
   "outputs": [
    {
     "data": {
      "text/plain": [
       "'/home/fll_data_bata/code/Franloplam/DB Gatos/dataset/dataset/'"
      ]
     },
     "execution_count": 3,
     "metadata": {},
     "output_type": "execute_result"
    }
   ],
   "source": [
    "DATA_DIR = '/home/fll_data_bata/code/Franloplam/DB Gatos/dataset/dataset/'\n",
    "audio_files = os.listdir(DATA_DIR)\n",
    "DATA_DIR"
   ]
  },
  {
   "cell_type": "code",
   "execution_count": 4,
   "id": "98c00012",
   "metadata": {},
   "outputs": [
    {
     "data": {
      "text/plain": [
       "'/home/fll_data_bata/code/Franloplam'"
      ]
     },
     "execution_count": 4,
     "metadata": {},
     "output_type": "execute_result"
    }
   ],
   "source": [
    "os.getcwd()"
   ]
  },
  {
   "cell_type": "code",
   "execution_count": 5,
   "id": "d39f6c1a",
   "metadata": {},
   "outputs": [],
   "source": [
    "# 'F' : 'Waiting For Food', 'I' : 'Isolated in unfamiliar Environment', 'B' : 'Brushing'\n",
    "emission_context = {'F' : [], 'I' : [], 'B' : []}\n",
    "\n",
    "# breed (values: MC = Maine Coon; EU: European Shorthair);\n",
    "sex = {'FI' : [], 'FN' : [], 'MI' : [], 'MN' : []}\n",
    "\n",
    "for file in audio_files:\n",
    "    split = file.split('_')\n",
    "    if split[0] in emission_context.keys():\n",
    "        emission_context.get(split[0]).append(file)\n",
    "        \n",
    "    if split[3] in sex.keys():\n",
    "        sex.get(split[3]).append(file)"
   ]
  },
  {
   "cell_type": "code",
   "execution_count": 6,
   "id": "42d8f00e",
   "metadata": {},
   "outputs": [],
   "source": [
    "#emission_context"
   ]
  },
  {
   "cell_type": "markdown",
   "id": "07f2362f",
   "metadata": {},
   "source": [
    "# Explore the data"
   ]
  },
  {
   "cell_type": "markdown",
   "id": "2e886352",
   "metadata": {},
   "source": [
    "## Context"
   ]
  },
  {
   "cell_type": "markdown",
   "id": "5f64b68e",
   "metadata": {},
   "source": [
    "### Food"
   ]
  },
  {
   "cell_type": "code",
   "execution_count": 7,
   "id": "79d8ab8f",
   "metadata": {},
   "outputs": [],
   "source": [
    "import librosa"
   ]
  },
  {
   "cell_type": "code",
   "execution_count": 8,
   "id": "2ced4fef",
   "metadata": {},
   "outputs": [
    {
     "data": {
      "text/plain": [
       "(array([-8.0263737e-05, -3.3551996e-04, -5.8457267e-04, ...,\n",
       "        -1.3037396e-04, -1.2661336e-04,  0.0000000e+00], dtype=float32),\n",
       " 22050)"
      ]
     },
     "execution_count": 8,
     "metadata": {},
     "output_type": "execute_result"
    }
   ],
   "source": [
    "wait_food_ex = DATA_DIR + emission_context.get('F')[2]\n",
    "data_food , sample_rate_F = librosa.load(wait_food_ex)\n",
    "librosa.load(wait_food_ex)\n",
    "#ipd.Audio(wait_food_ex)"
   ]
  },
  {
   "cell_type": "code",
   "execution_count": 9,
   "id": "91d848a6",
   "metadata": {
    "scrolled": true
   },
   "outputs": [],
   "source": [
    "#print(data_food)\n",
    "#data_food.shape"
   ]
  },
  {
   "cell_type": "code",
   "execution_count": 10,
   "id": "fa7d1915",
   "metadata": {},
   "outputs": [],
   "source": [
    "import matplotlib.pyplot as plt\n",
    "\n",
    "#librosa.display.waveshow(data_food)\n",
    "#plt.title(\"Example Sound of Waiting for Food\", fontsize=20)\n",
    "\n",
    "#plt.show()"
   ]
  },
  {
   "cell_type": "code",
   "execution_count": 11,
   "id": "0756eadd",
   "metadata": {},
   "outputs": [],
   "source": [
    "X_Food = librosa.stft(data_food)\n",
    "Xdb_Food = librosa.amplitude_to_db(abs(X_Food))\n",
    "#librosa.display.specshow(Xdb_Food, sr=sample_rate_F, x_axis='time', y_axis='hz')\n",
    "#plt.colorbar()"
   ]
  },
  {
   "cell_type": "markdown",
   "id": "787b1c43",
   "metadata": {},
   "source": [
    "###  Isolated in unfamiliar Environment"
   ]
  },
  {
   "cell_type": "code",
   "execution_count": 12,
   "id": "152ab798",
   "metadata": {},
   "outputs": [],
   "source": [
    "isolated_ex = DATA_DIR+ emission_context.get('I')[0]\n",
    "data_isolated , sample_rate_I  = librosa.load(isolated_ex)\n",
    "#librosa.load(isolated_ex)\n",
    "#ipd.Audio(isolated_ex)"
   ]
  },
  {
   "cell_type": "code",
   "execution_count": 13,
   "id": "23215108",
   "metadata": {},
   "outputs": [],
   "source": [
    "#librosa.display.waveshow(data_isolated)\n",
    "#plt.title(\"Example Sound of Isolated in unfamiliar Environment\", fontsize = 20);"
   ]
  },
  {
   "cell_type": "code",
   "execution_count": 14,
   "id": "5225c6bc",
   "metadata": {},
   "outputs": [],
   "source": [
    "X_isolated = librosa.stft(data_isolated)\n",
    "Xdb_isolated = librosa.amplitude_to_db(abs(X_isolated))\n",
    "#librosa.display.specshow(Xdb_isolated, sr=sample_rate_I, x_axis='time', y_axis='hz')\n",
    "#plt.colorbar()"
   ]
  },
  {
   "cell_type": "markdown",
   "id": "f7f2839e",
   "metadata": {},
   "source": [
    "### Brushing "
   ]
  },
  {
   "cell_type": "code",
   "execution_count": 15,
   "id": "7a5ac444",
   "metadata": {},
   "outputs": [
    {
     "data": {
      "text/plain": [
       "(array([ 3.1309476e-04,  3.7342482e-04,  2.8523506e-04, ...,\n",
       "        -1.7574076e-04, -1.2627908e-04, -5.6869842e-05], dtype=float32),\n",
       " 22050)"
      ]
     },
     "execution_count": 15,
     "metadata": {},
     "output_type": "execute_result"
    }
   ],
   "source": [
    "brushing_ex = DATA_DIR + emission_context.get('B')[1]\n",
    "data_brushing , sample_rate_B  = librosa.load(brushing_ex)\n",
    "librosa.load(brushing_ex)\n",
    "#ipd.Audio(brushing_ex)"
   ]
  },
  {
   "cell_type": "code",
   "execution_count": 16,
   "id": "7188bcf0",
   "metadata": {},
   "outputs": [],
   "source": [
    "#librosa.display.waveshow(data_brushing)\n",
    "#plt.title(\"Example Sound of Brushing\", fontsize = 20);"
   ]
  },
  {
   "cell_type": "code",
   "execution_count": 17,
   "id": "9bbe4bac",
   "metadata": {},
   "outputs": [],
   "source": [
    "X_brushing = librosa.stft(data_brushing)\n",
    "Xdb_brushing = librosa.amplitude_to_db(abs(X_brushing))\n",
    "#librosa.display.specshow(Xdb_brushing, sr=sample_rate_B, x_axis='time', y_axis='hz')\n",
    "#plt.colorbar()"
   ]
  },
  {
   "cell_type": "markdown",
   "id": "45fc157a",
   "metadata": {},
   "source": [
    "# Plot based emission context"
   ]
  },
  {
   "cell_type": "code",
   "execution_count": 18,
   "id": "2f1f6970",
   "metadata": {},
   "outputs": [
    {
     "data": {
      "text/plain": [
       "[92, 221, 127]"
      ]
     },
     "execution_count": 18,
     "metadata": {},
     "output_type": "execute_result"
    }
   ],
   "source": [
    "len_value_emission =[]\n",
    "for i in emission_context.values():\n",
    "    len_value_emission.append(len(i))\n",
    "len_value_emission\n",
    "\n",
    "#F ,  I ,  B"
   ]
  },
  {
   "cell_type": "code",
   "execution_count": 19,
   "id": "82a6d7b2",
   "metadata": {},
   "outputs": [],
   "source": [
    "# rename keys of dictionary\n",
    "emission_context['Waiting For Food'] = emission_context.pop('F')\n",
    "emission_context['Isolated in unfamiliar Environment'] = emission_context.pop('I')\n",
    "emission_context['Brushing'] = emission_context.pop('B')"
   ]
  },
  {
   "cell_type": "markdown",
   "id": "d3461568",
   "metadata": {},
   "source": [
    "## Plot based sex"
   ]
  },
  {
   "cell_type": "code",
   "execution_count": 20,
   "id": "2e6047e8",
   "metadata": {},
   "outputs": [],
   "source": [
    "len_value_sex =[]\n",
    "for i in sex.values():\n",
    "    len_value_sex.append(len(i))\n",
    "\n",
    "# rename keys of dictionary\n",
    "sex['Female_intact'] = sex.pop('FI')\n",
    "sex['Female_neutered'] = sex.pop('FN')\n",
    "sex[\"Male_intact\"] = sex.pop(\"MI\")\n",
    "sex[\"Male_neutered\"] = sex.pop(\"MN\")\n",
    "\n",
    "#x = sex.keys()\n",
    "#y = len_value_sex\n",
    "#plt.bar(x, y, color ='blue')\n",
    "#plt.xticks(rotation=10)\n",
    "#plt.xlabel(\"Sex\")\n",
    "#plt.ylabel(\"Number of cat sound\")"
   ]
  },
  {
   "cell_type": "markdown",
   "id": "140d741a",
   "metadata": {},
   "source": [
    "# Make all data into one dataframe"
   ]
  },
  {
   "cell_type": "code",
   "execution_count": 21,
   "id": "0bc6f84d",
   "metadata": {},
   "outputs": [],
   "source": [
    "def add_path(list_emission):\n",
    "    path = []\n",
    "    for i in range(len(list_emission)):\n",
    "        path.append(DATA_DIR+list_emission[i])\n",
    "    return path\n",
    "\n",
    "\n",
    "a = add_path(emission_context['Waiting For Food'])\n",
    "b = add_path(emission_context['Isolated in unfamiliar Environment'])\n",
    "c = add_path(emission_context['Brushing'])\n",
    "emission = a+b+c\n",
    "\n",
    "df = pd.DataFrame(emission, columns=['Emission'])"
   ]
  },
  {
   "cell_type": "code",
   "execution_count": 22,
   "id": "aaa021dc",
   "metadata": {},
   "outputs": [],
   "source": [
    "#a ---> path audios Food\n",
    "#b ---> path audios Isolated\n",
    "#c ---> path audios Brush\n",
    "\n",
    "#emission ---> a+b+c"
   ]
  },
  {
   "cell_type": "code",
   "execution_count": 23,
   "id": "8bf49f86",
   "metadata": {},
   "outputs": [],
   "source": [
    "label_W = np.tile('Waiting For Food',92) #---> array \"Waiting For Food\" * 92 veces\n",
    "label_I = np.tile('Isolated in unfamiliar Environment',221) #---> array \"Isolated in unfamiliar Enviroment\" * 221 veces\n",
    "label_B = np.tile('Brushing',127) #---> array \"Brushing\" * 127 veces\n",
    "\n",
    "Label = np.append(label_W, np.append(label_I, label_B))\n",
    "df['Label'] = Label"
   ]
  },
  {
   "cell_type": "code",
   "execution_count": 24,
   "id": "e58e575a",
   "metadata": {},
   "outputs": [
    {
     "name": "stdout",
     "output_type": "stream",
     "text": [
      "(440, 2)\n"
     ]
    },
    {
     "data": {
      "text/html": [
       "<div>\n",
       "<style scoped>\n",
       "    .dataframe tbody tr th:only-of-type {\n",
       "        vertical-align: middle;\n",
       "    }\n",
       "\n",
       "    .dataframe tbody tr th {\n",
       "        vertical-align: top;\n",
       "    }\n",
       "\n",
       "    .dataframe thead th {\n",
       "        text-align: right;\n",
       "    }\n",
       "</style>\n",
       "<table border=\"1\" class=\"dataframe\">\n",
       "  <thead>\n",
       "    <tr style=\"text-align: right;\">\n",
       "      <th></th>\n",
       "      <th>Emission</th>\n",
       "      <th>Label</th>\n",
       "    </tr>\n",
       "  </thead>\n",
       "  <tbody>\n",
       "    <tr>\n",
       "      <th>285</th>\n",
       "      <td>/home/fll_data_bata/code/Franloplam/DB Gatos/d...</td>\n",
       "      <td>Isolated in unfamiliar Environment</td>\n",
       "    </tr>\n",
       "    <tr>\n",
       "      <th>263</th>\n",
       "      <td>/home/fll_data_bata/code/Franloplam/DB Gatos/d...</td>\n",
       "      <td>Isolated in unfamiliar Environment</td>\n",
       "    </tr>\n",
       "    <tr>\n",
       "      <th>3</th>\n",
       "      <td>/home/fll_data_bata/code/Franloplam/DB Gatos/d...</td>\n",
       "      <td>Waiting For Food</td>\n",
       "    </tr>\n",
       "    <tr>\n",
       "      <th>32</th>\n",
       "      <td>/home/fll_data_bata/code/Franloplam/DB Gatos/d...</td>\n",
       "      <td>Waiting For Food</td>\n",
       "    </tr>\n",
       "  </tbody>\n",
       "</table>\n",
       "</div>"
      ],
      "text/plain": [
       "                                              Emission  \\\n",
       "285  /home/fll_data_bata/code/Franloplam/DB Gatos/d...   \n",
       "263  /home/fll_data_bata/code/Franloplam/DB Gatos/d...   \n",
       "3    /home/fll_data_bata/code/Franloplam/DB Gatos/d...   \n",
       "32   /home/fll_data_bata/code/Franloplam/DB Gatos/d...   \n",
       "\n",
       "                                  Label  \n",
       "285  Isolated in unfamiliar Environment  \n",
       "263  Isolated in unfamiliar Environment  \n",
       "3                      Waiting For Food  \n",
       "32                     Waiting For Food  "
      ]
     },
     "execution_count": 24,
     "metadata": {},
     "output_type": "execute_result"
    }
   ],
   "source": [
    "print(df.shape)\n",
    "df.sample(4)"
   ]
  },
  {
   "cell_type": "code",
   "execution_count": 94,
   "id": "a05ceac2",
   "metadata": {},
   "outputs": [],
   "source": [
    "import librosa\n",
    "\n",
    "def espectro_transform(audio_wav):\n",
    "    audio_array = []\n",
    "\n",
    "    for i in audio_wav:\n",
    "        try:\n",
    "            x, sr = librosa.load(i, sr=44100)\n",
    "            audio_array.append(x)\n",
    "        except (FileNotFoundError, librosa.LibrosaError):\n",
    "            print(f\"Error al cargar el archivo: {i}. Ignorando archivo.\")\n",
    "\n",
    "    return audio_array\n",
    "    \n",
    "df['Data Arrays'] = espectro_transform(df[\"Emission\"])"
   ]
  },
  {
   "cell_type": "code",
   "execution_count": 31,
   "id": "cc489d2d",
   "metadata": {
    "scrolled": true
   },
   "outputs": [
    {
     "data": {
      "text/html": [
       "<div>\n",
       "<style scoped>\n",
       "    .dataframe tbody tr th:only-of-type {\n",
       "        vertical-align: middle;\n",
       "    }\n",
       "\n",
       "    .dataframe tbody tr th {\n",
       "        vertical-align: top;\n",
       "    }\n",
       "\n",
       "    .dataframe thead th {\n",
       "        text-align: right;\n",
       "    }\n",
       "</style>\n",
       "<table border=\"1\" class=\"dataframe\">\n",
       "  <thead>\n",
       "    <tr style=\"text-align: right;\">\n",
       "      <th></th>\n",
       "      <th>Emission</th>\n",
       "      <th>Label</th>\n",
       "      <th>Data Arrays</th>\n",
       "    </tr>\n",
       "  </thead>\n",
       "  <tbody>\n",
       "    <tr>\n",
       "      <th>173</th>\n",
       "      <td>/home/fll_data_bata/code/Franloplam/DB Gatos/d...</td>\n",
       "      <td>Isolated in unfamiliar Environment</td>\n",
       "      <td>[-5.3912205e-05, -5.6506782e-05, -5.361926e-05...</td>\n",
       "    </tr>\n",
       "    <tr>\n",
       "      <th>402</th>\n",
       "      <td>/home/fll_data_bata/code/Franloplam/DB Gatos/d...</td>\n",
       "      <td>Brushing</td>\n",
       "      <td>[6.541403e-05, 7.7679455e-05, 7.49045e-05, 5.0...</td>\n",
       "    </tr>\n",
       "    <tr>\n",
       "      <th>255</th>\n",
       "      <td>/home/fll_data_bata/code/Franloplam/DB Gatos/d...</td>\n",
       "      <td>Isolated in unfamiliar Environment</td>\n",
       "      <td>[-0.00012344713, -0.00016030113, -0.0001878278...</td>\n",
       "    </tr>\n",
       "    <tr>\n",
       "      <th>153</th>\n",
       "      <td>/home/fll_data_bata/code/Franloplam/DB Gatos/d...</td>\n",
       "      <td>Isolated in unfamiliar Environment</td>\n",
       "      <td>[-2.4888912e-05, -1.9440304e-05, -5.703776e-06...</td>\n",
       "    </tr>\n",
       "    <tr>\n",
       "      <th>16</th>\n",
       "      <td>/home/fll_data_bata/code/Franloplam/DB Gatos/d...</td>\n",
       "      <td>Waiting For Food</td>\n",
       "      <td>[5.91579e-05, 8.500728e-05, 0.00010293099, 0.0...</td>\n",
       "    </tr>\n",
       "  </tbody>\n",
       "</table>\n",
       "</div>"
      ],
      "text/plain": [
       "                                              Emission  \\\n",
       "173  /home/fll_data_bata/code/Franloplam/DB Gatos/d...   \n",
       "402  /home/fll_data_bata/code/Franloplam/DB Gatos/d...   \n",
       "255  /home/fll_data_bata/code/Franloplam/DB Gatos/d...   \n",
       "153  /home/fll_data_bata/code/Franloplam/DB Gatos/d...   \n",
       "16   /home/fll_data_bata/code/Franloplam/DB Gatos/d...   \n",
       "\n",
       "                                  Label  \\\n",
       "173  Isolated in unfamiliar Environment   \n",
       "402                            Brushing   \n",
       "255  Isolated in unfamiliar Environment   \n",
       "153  Isolated in unfamiliar Environment   \n",
       "16                     Waiting For Food   \n",
       "\n",
       "                                           Data Arrays  \n",
       "173  [-5.3912205e-05, -5.6506782e-05, -5.361926e-05...  \n",
       "402  [6.541403e-05, 7.7679455e-05, 7.49045e-05, 5.0...  \n",
       "255  [-0.00012344713, -0.00016030113, -0.0001878278...  \n",
       "153  [-2.4888912e-05, -1.9440304e-05, -5.703776e-06...  \n",
       "16   [5.91579e-05, 8.500728e-05, 0.00010293099, 0.0...  "
      ]
     },
     "execution_count": 31,
     "metadata": {},
     "output_type": "execute_result"
    }
   ],
   "source": [
    "df.sample(5)"
   ]
  },
  {
   "cell_type": "code",
   "execution_count": 154,
   "id": "4aa3290f",
   "metadata": {},
   "outputs": [
    {
     "data": {
      "text/plain": [
       "(97676,)"
      ]
     },
     "execution_count": 154,
     "metadata": {},
     "output_type": "execute_result"
    }
   ],
   "source": [
    "df[\"Data Arrays\"][0].shape"
   ]
  },
  {
   "cell_type": "code",
   "execution_count": 155,
   "id": "58c0dac9",
   "metadata": {},
   "outputs": [
    {
     "data": {
      "text/plain": [
       "(59541,)"
      ]
     },
     "execution_count": 155,
     "metadata": {},
     "output_type": "execute_result"
    }
   ],
   "source": [
    "df[\"Data Arrays\"][1].shape"
   ]
  },
  {
   "cell_type": "code",
   "execution_count": 156,
   "id": "c29308bb",
   "metadata": {},
   "outputs": [
    {
     "data": {
      "text/plain": [
       "(72881,)"
      ]
     },
     "execution_count": 156,
     "metadata": {},
     "output_type": "execute_result"
    }
   ],
   "source": [
    "df[\"Data Arrays\"][2].shape"
   ]
  },
  {
   "cell_type": "markdown",
   "id": "6e20ebed",
   "metadata": {},
   "source": [
    "# Data Augmentation"
   ]
  },
  {
   "cell_type": "code",
   "execution_count": 28,
   "id": "2b5f3108",
   "metadata": {},
   "outputs": [],
   "source": [
    "#!pip install audiomentations"
   ]
  },
  {
   "cell_type": "code",
   "execution_count": 32,
   "id": "0315c59d",
   "metadata": {},
   "outputs": [],
   "source": [
    "from audiomentations import Compose, AddGaussianNoise, TimeStretch, PitchShift\n",
    "\n",
    "#DATA_DIR_2 = '/home/fll_data_bata/code/Franloplam/DB Gatos/dataset/'\n",
    "\n",
    "#df = pd.read_csv(DATA_DIR_2)  # Replace 'path_to_csv_file' with the actual path to your CSV file\n",
    "\n",
    "augmenter = Compose([    AddGaussianNoise(min_amplitude=0.001, max_amplitude=0.015, p=0.5),\n",
    "    TimeStretch(min_rate=0.8, max_rate=1.25, p=0.5),\n",
    "    PitchShift(min_semitones=-4, max_semitones=4, p=0.5)\n",
    "])"
   ]
  },
  {
   "cell_type": "code",
   "execution_count": 33,
   "id": "260bdc3e",
   "metadata": {},
   "outputs": [],
   "source": [
    "augmented_audio_list = []"
   ]
  },
  {
   "cell_type": "code",
   "execution_count": 34,
   "id": "31187da7",
   "metadata": {},
   "outputs": [],
   "source": [
    "for audio_array in df['Data Arrays']:\n",
    "    augmented_audio = augmenter(samples=audio_array, sample_rate=44100)\n",
    "    augmented_audio_list.append(augmented_audio)"
   ]
  },
  {
   "cell_type": "code",
   "execution_count": 35,
   "id": "a9d1bf87",
   "metadata": {},
   "outputs": [
    {
     "data": {
      "text/plain": [
       "(440, 3)"
      ]
     },
     "execution_count": 35,
     "metadata": {},
     "output_type": "execute_result"
    }
   ],
   "source": [
    "df.shape"
   ]
  },
  {
   "cell_type": "code",
   "execution_count": 36,
   "id": "8d7c9bbd",
   "metadata": {},
   "outputs": [
    {
     "data": {
      "text/plain": [
       "[array([ 0.00021097,  0.00023752,  0.00021158, ..., -0.0001334 ,\n",
       "        -0.00017526, -0.00011162], dtype=float32),\n",
       " array([ 0.001277  ,  0.003088  , -0.00087873, ..., -0.00066538,\n",
       "         0.00044286, -0.00041556], dtype=float32),\n",
       " array([-8.2908526e-05, -1.9362583e-04, -3.3097493e-04, ...,\n",
       "         1.5946166e-04,  9.2625480e-05,  3.7616923e-05], dtype=float32),\n",
       " array([0.000768  , 0.00098627, 0.00100512, ..., 0.        , 0.        ,\n",
       "        0.        ], dtype=float32),\n",
       " array([-1.2235214e-02, -8.0039222e-03, -1.0797200e-02, ...,\n",
       "        -1.7908839e-06,  2.4321753e-06, -1.5791354e-06], dtype=float32),\n",
       " array([ 0.00499097,  0.00269454, -0.00506707, ..., -0.00346451,\n",
       "         0.00112266,  0.00312531], dtype=float32),\n",
       " array([-8.3353552e-05, -1.4707274e-04, -2.2525863e-04, ...,\n",
       "         0.0000000e+00,  0.0000000e+00,  0.0000000e+00], dtype=float32),\n",
       " array([-0.00070254, -0.00078315, -0.00077602, ...,  0.        ,\n",
       "         0.        ,  0.        ], dtype=float32),\n",
       " array([-0.00934559, -0.00418455, -0.00086664, ...,  0.00216938,\n",
       "         0.00495342, -0.00542346], dtype=float32),\n",
       " array([-1.9826362e-04, -3.0830433e-04, -3.7600470e-04, ...,\n",
       "         6.0718048e-05,  5.4604476e-05,  6.9447582e-05], dtype=float32),\n",
       " array([-0.00678444,  0.01033363, -0.00184765, ..., -0.01055419,\n",
       "        -0.0024897 , -0.01109962], dtype=float32),\n",
       " array([0.00024146, 0.00021372, 0.00012006, ..., 0.        , 0.        ,\n",
       "        0.        ], dtype=float32),\n",
       " array([ 0.00730734,  0.00809361,  0.00666243, ..., -0.00563147,\n",
       "        -0.02797854, -0.01461647], dtype=float32),\n",
       " array([ 0.00741493, -0.00104627,  0.01364078, ..., -0.00769171,\n",
       "         0.00272099,  0.00314474], dtype=float32),\n",
       " array([-2.0663667e-05, -8.8977060e-05, -1.9236395e-04, ...,\n",
       "        -6.4823296e-05, -7.6463810e-05, -4.1601470e-05], dtype=float32),\n",
       " array([-0.01139357, -0.00280222, -0.00165098, ..., -0.00014508,\n",
       "        -0.001903  , -0.00283573], dtype=float32),\n",
       " array([-0.00459203, -0.00460261,  0.02020308, ...,  0.00660451,\n",
       "         0.0072221 , -0.01576166], dtype=float32),\n",
       " array([-0.0043661 , -0.01538347, -0.01052034, ...,  0.00477534,\n",
       "         0.00841526,  0.00464404], dtype=float32),\n",
       " array([ 0.00318308,  0.01160556,  0.01992043, ...,  0.00468262,\n",
       "        -0.00666437,  0.01032994], dtype=float32),\n",
       " array([-0.01446156, -0.00290933,  0.00989334, ..., -0.00720104,\n",
       "        -0.00457968,  0.0004255 ], dtype=float32),\n",
       " array([ 0.00566604, -0.00700551,  0.01010557, ..., -0.01079141,\n",
       "        -0.00899166,  0.01587464], dtype=float32),\n",
       " array([-5.8011698e-05,  9.7531953e-04, -3.4735589e-03, ...,\n",
       "         1.0869382e-03,  6.2166085e-04,  1.2581509e-03], dtype=float32),\n",
       " array([-2.0801075e-04, -2.5799003e-04, -1.9621055e-04, ...,\n",
       "         3.0858762e-05,  5.0725968e-05,  3.4988134e-05], dtype=float32),\n",
       " array([ 0.00726667, -0.00652491, -0.00035017, ..., -0.0095613 ,\n",
       "         0.00400103,  0.00118712], dtype=float32),\n",
       " array([-0.00487809, -0.02068949,  0.00135151, ...,  0.        ,\n",
       "         0.        ,  0.        ], dtype=float32),\n",
       " array([ 4.28144704e-05,  1.11196605e-04,  2.18239438e-04, ...,\n",
       "        -3.46394314e-04, -3.66977736e-04, -4.86198667e-04], dtype=float32),\n",
       " array([-0.01247377, -0.00878727, -0.0150195 , ..., -0.00768544,\n",
       "        -0.0120025 , -0.00479967], dtype=float32),\n",
       " array([0.00200254, 0.0023259 , 0.00242163, ..., 0.00027522, 0.0001854 ,\n",
       "        0.        ], dtype=float32),\n",
       " array([-4.968149e-05, -5.222267e-05, -3.172386e-05, ...,  0.000000e+00,\n",
       "         0.000000e+00,  0.000000e+00], dtype=float32),\n",
       " array([ 2.0508191e-03,  2.6459647e-03,  2.1772410e-03, ...,\n",
       "        -1.4762604e-03,  1.6919326e-03, -4.0951192e-05], dtype=float32),\n",
       " array([0.00483441, 0.00950603, 0.00326951, ..., 0.        , 0.        ,\n",
       "        0.        ], dtype=float32),\n",
       " array([ 0.00473519, -0.00090949, -0.00592561, ...,  0.00376634,\n",
       "        -0.00929651,  0.00759394], dtype=float32),\n",
       " array([5.3232478e-05, 4.7813122e-05, 1.8940200e-05, ..., 6.4912856e-05,\n",
       "        7.0115580e-05, 7.0950424e-05], dtype=float32),\n",
       " array([0.00025273, 0.00030855, 0.00030582, ..., 0.        , 0.        ,\n",
       "        0.        ], dtype=float32),\n",
       " array([-0.00347234,  0.00827307, -0.02975153, ..., -0.0200786 ,\n",
       "         0.01536734, -0.01415897], dtype=float32),\n",
       " array([-0.00243803,  0.00430993,  0.0090462 , ...,  0.        ,\n",
       "         0.        ,  0.        ], dtype=float32),\n",
       " array([-0.01522732,  0.00174085, -0.00319735, ..., -0.0119831 ,\n",
       "        -0.00707482, -0.00896813], dtype=float32),\n",
       " array([-0.00010855, -0.00014558, -0.0001491 , ...,  0.00302078,\n",
       "         0.00283338,  0.00351172], dtype=float32),\n",
       " array([7.9227917e-05, 6.9979542e-05, 5.2059066e-05, ..., 0.0000000e+00,\n",
       "        0.0000000e+00, 0.0000000e+00], dtype=float32),\n",
       " array([-1.8729231e-03, -2.3419247e-03, -2.6867744e-03, ...,\n",
       "        -2.2448806e-04, -1.5151812e-04, -7.8041921e-05], dtype=float32),\n",
       " array([ 0.01216266, -0.01068214, -0.00576439, ...,  0.        ,\n",
       "         0.        ,  0.        ], dtype=float32),\n",
       " array([-0.00013447, -0.00017406, -0.000177  , ...,  0.        ,\n",
       "         0.        ,  0.        ], dtype=float32),\n",
       " array([ 6.2507764e-04,  7.4638508e-04,  6.7739992e-04, ...,\n",
       "        -2.7036343e-15,  2.1597144e-15, -2.3852304e-15], dtype=float32),\n",
       " array([ 2.4089991e-04,  2.9630912e-04,  2.6006886e-04, ...,\n",
       "        -7.3017130e-05, -5.7665588e-05, -3.1014162e-05], dtype=float32),\n",
       " array([ 2.6479268e-03,  9.2552956e-03, -2.6748523e-02, ...,\n",
       "        -3.4353363e-03,  7.0200113e-05, -2.2985453e-02], dtype=float32),\n",
       " array([-0.00140892, -0.00185813, -0.00575153, ..., -0.0036834 ,\n",
       "        -0.0010447 ,  0.00535157], dtype=float32),\n",
       " array([-8.8967703e-05, -1.5147362e-04, -1.8865940e-04, ...,\n",
       "         2.6336670e-04,  2.6694321e-04,  2.6517143e-04], dtype=float32),\n",
       " array([-0.00036376, -0.00047399, -0.00045303, ...,  0.        ,\n",
       "         0.        ,  0.        ], dtype=float32),\n",
       " array([6.0952567e-09, 1.0015347e-08, 1.1067540e-08, ..., 2.4111074e-04,\n",
       "        2.4677027e-04, 1.7615172e-04], dtype=float32),\n",
       " array([ 1.4756857e-04,  2.0596932e-04,  2.1826618e-04, ...,\n",
       "        -1.9658546e-05, -2.0430276e-05, -1.2446677e-05], dtype=float32),\n",
       " array([-0.0047324 , -0.01387709, -0.0043204 , ..., -0.00037401,\n",
       "        -0.00342241, -0.00034074], dtype=float32),\n",
       " array([ 0.00654985, -0.00070671,  0.00342199, ...,  0.        ,\n",
       "         0.        ,  0.        ], dtype=float32),\n",
       " array([-5.6876843e-03,  9.6469903e-03,  2.7598348e-05, ...,\n",
       "        -2.9811723e-05, -5.5399630e-04, -2.1542792e-04], dtype=float32),\n",
       " array([0.0007771 , 0.00161245, 0.00255075, ..., 0.        , 0.        ,\n",
       "        0.        ], dtype=float32),\n",
       " array([-0.00015127, -0.00149788, -0.00547985, ..., -0.00686801,\n",
       "        -0.00352363,  0.001268  ], dtype=float32),\n",
       " array([ 0.00036507,  0.00045026,  0.00051278, ..., -0.00015185,\n",
       "        -0.00010355,  0.        ], dtype=float32),\n",
       " array([0.00062275, 0.00072167, 0.00062184, ..., 0.        , 0.        ,\n",
       "        0.        ], dtype=float32),\n",
       " array([-0.00505675, -0.01284803,  0.01392923, ...,  0.01574676,\n",
       "        -0.00564455,  0.01262043], dtype=float32),\n",
       " array([-0.00057554,  0.00011325,  0.00479584, ..., -0.00690023,\n",
       "        -0.00262829, -0.01360967], dtype=float32),\n",
       " array([ 2.2623553e-03,  1.9767322e-03, -7.8115158e-04, ...,\n",
       "         9.6449672e-05,  1.3016323e-04, -3.1688923e-04], dtype=float32),\n",
       " array([ 0.00123864,  0.00539191,  0.01372438, ...,  0.01116024,\n",
       "        -0.00099229, -0.00563419], dtype=float32),\n",
       " array([-7.5874210e-05, -1.5872657e-04, -2.2496366e-04, ...,\n",
       "        -9.0813955e-05, -9.6370131e-05, -8.2856794e-05], dtype=float32),\n",
       " array([-0.00910716,  0.00778383, -0.01072177, ..., -0.00821686,\n",
       "         0.00857574, -0.00405649], dtype=float32),\n",
       " array([2.5076111e-04, 2.8386305e-04, 2.2911074e-04, ..., 4.5701134e-05,\n",
       "        3.6138052e-05, 2.1876236e-05], dtype=float32),\n",
       " array([-1.0601581e-03, -1.2082825e-03, -1.0247484e-03, ...,\n",
       "         5.9599155e-05,  1.8450950e-05, -7.6311080e-06], dtype=float32),\n",
       " array([-0.00150428, -0.00297903,  0.00377595, ...,  0.        ,\n",
       "         0.        ,  0.        ], dtype=float32),\n",
       " array([ 2.7976211e-04,  3.2194538e-04,  3.3387117e-04, ...,\n",
       "        -1.2565721e-04, -9.9363708e-05, -5.6273537e-05], dtype=float32),\n",
       " array([0.00184486, 0.00266083, 0.00317995, ..., 0.00021145, 0.00026681,\n",
       "        0.00013166], dtype=float32),\n",
       " array([-0.00495568,  0.00268527,  0.0037712 , ...,  0.        ,\n",
       "         0.        ,  0.        ], dtype=float32),\n",
       " array([ 0.01175878, -0.00571994, -0.01078553, ...,  0.00227332,\n",
       "         0.00083425,  0.00308864], dtype=float32),\n",
       " array([4.0477345e-04, 4.5877977e-04, 4.7424500e-04, ..., 6.7138217e-08,\n",
       "        1.0310748e-06, 1.6648353e-06], dtype=float32),\n",
       " array([6.7094987e-04, 8.6666003e-04, 7.7689369e-04, ..., 8.8398388e-05,\n",
       "        6.1457955e-05, 2.0751648e-05], dtype=float32),\n",
       " array([-0.00524267,  0.00293992,  0.0051903 , ...,  0.        ,\n",
       "         0.        ,  0.        ], dtype=float32),\n",
       " array([-0.00171052,  0.01126883,  0.00034557, ...,  0.        ,\n",
       "         0.        ,  0.        ], dtype=float32),\n",
       " array([-0.00278667, -0.00196658, -0.00034338, ...,  0.        ,\n",
       "         0.        ,  0.        ], dtype=float32),\n",
       " array([0.00319583, 0.00499314, 0.01279741, ..., 0.        , 0.        ,\n",
       "        0.        ], dtype=float32),\n",
       " array([ 0.0066379 , -0.0029852 , -0.00734326, ...,  0.        ,\n",
       "         0.        ,  0.        ], dtype=float32),\n",
       " array([ 1.9048856e-04,  2.3103876e-04,  1.9323445e-04, ...,\n",
       "         2.5568417e-05, -5.7159203e-05, -7.8838202e-05], dtype=float32),\n",
       " array([ 0.00797563, -0.00078953, -0.00051626, ...,  0.00587156,\n",
       "         0.00533276,  0.00591418], dtype=float32),\n",
       " array([-0.01336704,  0.01322275, -0.00704538, ...,  0.00999216,\n",
       "         0.01147785, -0.02809387], dtype=float32),\n",
       " array([-0.00926899, -0.00500309,  0.00880456, ..., -0.00376281,\n",
       "        -0.00788165, -0.00997845], dtype=float32),\n",
       " array([-0.00161257, -0.00131129, -0.00063572, ...,  0.00030075,\n",
       "         0.00020133,  0.00010198], dtype=float32),\n",
       " array([ 8.6378313e-06, -3.2977223e-05, -9.4150862e-05, ...,\n",
       "         9.3125243e-05,  1.2800263e-04,  1.5010743e-04], dtype=float32),\n",
       " array([ 0.00229414, -0.0026966 , -0.008405  , ...,  0.00115338,\n",
       "        -0.00210013, -0.00169561], dtype=float32),\n",
       " array([-0.00017197, -0.00020814, -0.00022203, ...,  0.        ,\n",
       "         0.        ,  0.        ], dtype=float32),\n",
       " array([ 0.00179251,  0.00162179, -0.00140484, ...,  0.00116587,\n",
       "         0.00158698,  0.00312235], dtype=float32),\n",
       " array([-7.5789234e-05, -4.9012575e-05,  1.3689442e-05, ...,\n",
       "        -2.9706905e-04, -3.3578515e-04,  0.0000000e+00], dtype=float32),\n",
       " array([ 0.00152725, -0.01110186, -0.00674314, ...,  0.        ,\n",
       "         0.        ,  0.        ], dtype=float32),\n",
       " array([0.00017647, 0.00022116, 0.00021448, ..., 0.        , 0.        ,\n",
       "        0.        ], dtype=float32),\n",
       " array([-0.00015882, -0.00019208, -0.00018555, ...,  0.        ,\n",
       "         0.        ,  0.        ], dtype=float32),\n",
       " array([ 0.        ,  0.        ,  0.        , ..., -0.00096768,\n",
       "        -0.00085954, -0.00069141], dtype=float32),\n",
       " array([ 0.00134676,  0.00178266,  0.00196012, ..., -0.00021103,\n",
       "        -0.00019373, -0.0001045 ], dtype=float32),\n",
       " array([1.9775785e-04, 1.4778133e-04, 5.7504698e-05, ..., 0.0000000e+00,\n",
       "        0.0000000e+00, 0.0000000e+00], dtype=float32),\n",
       " array([ 0.00207616, -0.00594197,  0.00046194, ..., -0.01327239,\n",
       "         0.00668581,  0.00272961], dtype=float32),\n",
       " array([-1.13807655e-04, -1.39534008e-04, -1.58198789e-04, ...,\n",
       "         9.64739884e-05,  8.83599205e-05,  8.35840183e-05], dtype=float32),\n",
       " array([-0.00038055,  0.0022259 ,  0.0022523 , ...,  0.        ,\n",
       "         0.        ,  0.        ], dtype=float32),\n",
       " array([-0.00010064, -0.00012396, -0.00012465, ...,  0.00020013,\n",
       "         0.00018066,  0.00018397], dtype=float32),\n",
       " array([-0.00458128,  0.00240486,  0.00304657, ..., -0.00686314,\n",
       "         0.00865716, -0.0069323 ], dtype=float32),\n",
       " array([-0.00024681, -0.0002509 , -0.00012223, ..., -0.00010233,\n",
       "        -0.00014698, -0.00016064], dtype=float32),\n",
       " array([-0.00670822,  0.00125755,  0.0034418 , ..., -0.00089054,\n",
       "        -0.0026047 ,  0.00294369], dtype=float32),\n",
       " array([0.00053033, 0.00061521, 0.00064253, ..., 0.        , 0.        ,\n",
       "        0.        ], dtype=float32),\n",
       " array([-0.01253781, -0.00328358,  0.01533714, ...,  0.00190023,\n",
       "         0.0076508 ,  0.00277184], dtype=float32),\n",
       " array([-0.00822819, -0.0159402 , -0.00881598, ...,  0.01204853,\n",
       "        -0.01282668,  0.0028034 ], dtype=float32),\n",
       " array([ 1.7901744e-05,  1.5793776e-05,  6.8391691e-06, ...,\n",
       "        -8.2036690e-04, -1.5113732e-03, -8.5881748e-04], dtype=float32),\n",
       " array([5.5067230e-04, 6.7621248e-04, 7.6158246e-04, ..., 1.9537972e-04,\n",
       "        8.2818195e-05, 0.0000000e+00], dtype=float32),\n",
       " array([ 0.0038512 , -0.00355951,  0.00185426, ..., -0.00183523,\n",
       "         0.00055066, -0.00157577], dtype=float32),\n",
       " array([ 1.96427500e-04,  1.18202595e-04, -1.66367317e-05, ...,\n",
       "         1.33094640e-04,  6.36643963e-05,  0.00000000e+00], dtype=float32),\n",
       " array([ 0.0053136 , -0.0078401 , -0.00633677, ...,  0.0046961 ,\n",
       "        -0.00384458, -0.01197968], dtype=float32),\n",
       " array([0.00011604, 0.00022036, 0.00035358, ..., 0.        , 0.        ,\n",
       "        0.        ], dtype=float32),\n",
       " array([ 0.00220711, -0.02217612, -0.00913854, ...,  0.00201675,\n",
       "        -0.00252331, -0.00432224], dtype=float32),\n",
       " array([ 0.02442472, -0.0177551 , -0.00458186, ...,  0.00672752,\n",
       "        -0.00146525, -0.0069476 ], dtype=float32),\n",
       " array([ 0.0056818 , -0.00019178, -0.00052535, ...,  0.        ,\n",
       "         0.        ,  0.        ], dtype=float32),\n",
       " array([-0.00381027,  0.00686364,  0.00612672, ...,  0.        ,\n",
       "         0.        ,  0.        ], dtype=float32),\n",
       " array([ 2.3928695e-04,  3.1575482e-04,  3.4370023e-04, ...,\n",
       "        -5.3353469e-05, -8.0413796e-05, -1.3127226e-04], dtype=float32),\n",
       " array([-1.0535301e-04, -1.4406530e-04, -1.6851722e-04, ...,\n",
       "        -2.2229995e-04, -1.7226615e-04, -9.8916993e-05], dtype=float32),\n",
       " array([ 0.00156102,  0.01496592,  0.0056054 , ...,  0.0003641 ,\n",
       "        -0.00178027, -0.00023688], dtype=float32),\n",
       " array([-0.01050281,  0.00315427,  0.00851634, ...,  0.00094393,\n",
       "        -0.0003413 ,  0.00635717], dtype=float32),\n",
       " array([ 5.8581486e-06,  3.5566783e-05,  7.4995405e-05, ...,\n",
       "        -1.4800036e-04, -2.2041412e-04, -2.3878788e-04], dtype=float32),\n",
       " array([-0.00020313, -0.00027901, -0.0003045 , ...,  0.00021438,\n",
       "         0.00028509,  0.00023534], dtype=float32),\n",
       " array([-0.00080617, -0.00096081, -0.00102427, ...,  0.        ,\n",
       "         0.        ,  0.        ], dtype=float32),\n",
       " array([-3.6797440e-03, -8.6466904e-04,  3.6118203e-05, ...,\n",
       "         2.2254924e-03,  1.0097002e-02,  3.1649070e-03], dtype=float32),\n",
       " array([-0.01034242, -0.01461378,  0.02020668, ..., -0.0056715 ,\n",
       "         0.00522344, -0.00515143], dtype=float32),\n",
       " array([ 3.3348395e-05,  4.2890779e-06, -5.4926953e-05, ...,\n",
       "        -3.7655882e-05, -6.2864056e-05, -9.9396515e-05], dtype=float32),\n",
       " array([ 0.00226151,  0.00713637, -0.00105315, ...,  0.01091914,\n",
       "        -0.01447052, -0.00071975], dtype=float32),\n",
       " array([ 0.00055836,  0.00033656, -0.00026249, ...,  0.        ,\n",
       "         0.        ,  0.        ], dtype=float32),\n",
       " array([-0.00395807, -0.0056288 ,  0.01016567, ..., -0.00012347,\n",
       "         0.00062041,  0.00021527], dtype=float32),\n",
       " array([-0.008029  , -0.00736872,  0.00039021, ...,  0.        ,\n",
       "         0.        ,  0.        ], dtype=float32),\n",
       " array([ 0.00720975, -0.00551568,  0.00204912, ...,  0.00088556,\n",
       "         0.00256242,  0.00989844], dtype=float32),\n",
       " array([5.7085679e-05, 1.0141765e-04, 1.6741034e-04, ..., 0.0000000e+00,\n",
       "        0.0000000e+00, 0.0000000e+00], dtype=float32),\n",
       " array([ 0.00024266,  0.00041719,  0.00378247, ..., -0.00059572,\n",
       "         0.00229492,  0.00582067], dtype=float32),\n",
       " array([-0.00027651,  0.00160626,  0.00220807, ...,  0.        ,\n",
       "         0.        ,  0.        ], dtype=float32),\n",
       " array([0.00020578, 0.00024741, 0.00026866, ..., 0.00019009, 0.00010581,\n",
       "        0.        ], dtype=float32),\n",
       " array([ 7.4313721e-07, -6.0718201e-05, -1.5250665e-04, ...,\n",
       "        -3.7438911e-04, -3.2017709e-04, -2.0256368e-04], dtype=float32),\n",
       " array([ 0.00383871, -0.00090565, -0.00176289, ...,  0.        ,\n",
       "         0.        ,  0.        ], dtype=float32),\n",
       " array([-6.3975237e-04, -7.4437319e-04, -7.7790034e-04, ...,\n",
       "        -1.1317826e-04, -5.3695578e-05,  0.0000000e+00], dtype=float32),\n",
       " array([ 5.2531293e-05,  5.8890222e-05,  5.4186632e-05, ...,\n",
       "        -4.1133226e-03,  2.9276314e-03,  3.8650855e-03], dtype=float32),\n",
       " array([-0.00138476, -0.00235901, -0.00130887, ...,  0.00194522,\n",
       "         0.00376106, -0.00529594], dtype=float32),\n",
       " array([-9.08650145e-06, -1.00127545e-05, -8.99397673e-06, ...,\n",
       "         5.72285790e-05,  7.40919204e-05,  8.80066582e-05], dtype=float32),\n",
       " array([0.00070084, 0.00073423, 0.00066994, ..., 0.        , 0.        ,\n",
       "        0.        ], dtype=float32),\n",
       " array([0.00077173, 0.00104737, 0.00103087, ..., 0.00059667, 0.00048779,\n",
       "        0.00037075], dtype=float32),\n",
       " array([ 0.00567801,  0.00175795, -0.00219481, ..., -0.00058428,\n",
       "         0.00024232, -0.00319643], dtype=float32),\n",
       " array([ 4.1792897e-05, -7.6476973e-03, -2.2888868e-03, ...,\n",
       "         8.9261746e-03, -5.6183594e-03, -1.8875053e-03], dtype=float32),\n",
       " array([ 0.00089731,  0.00174183,  0.0036571 , ..., -0.00303004,\n",
       "         0.00652029,  0.00792956], dtype=float32),\n",
       " array([0.00220186, 0.00251528, 0.00255471, ..., 0.00017836, 0.00034721,\n",
       "        0.00035404], dtype=float32),\n",
       " array([ 0.0051697 , -0.01807128,  0.00030799, ...,  0.        ,\n",
       "         0.        ,  0.        ], dtype=float32),\n",
       " array([-0.00321809, -0.00175027,  0.00050117, ...,  0.00114886,\n",
       "         0.00045883,  0.00148949], dtype=float32),\n",
       " array([ 1.1137716e-04,  1.4227373e-04,  1.5247877e-04, ...,\n",
       "        -2.3712390e-04, -1.5076333e-04, -4.4474036e-05], dtype=float32),\n",
       " array([-0.00310133,  0.00298985,  0.00877412, ...,  0.00094575,\n",
       "        -0.00818636, -0.00837923], dtype=float32),\n",
       " array([ 9.7371521e-05,  2.4017502e-04,  4.1304968e-04, ...,\n",
       "        -2.3023937e-04, -9.4195508e-05,  7.8661375e-05], dtype=float32),\n",
       " array([-0.00207516,  0.0048951 , -0.00010565, ...,  0.        ,\n",
       "         0.        ,  0.        ], dtype=float32),\n",
       " array([ 0.00895746, -0.02292241, -0.01402124, ...,  0.00131737,\n",
       "         0.0001436 ,  0.00186111], dtype=float32),\n",
       " array([ 5.4484102e-05, -4.6255409e-06, -1.1391817e-04, ...,\n",
       "         2.2754181e-04,  2.0609387e-04,  1.9244035e-04], dtype=float32),\n",
       " array([ 0.00032775,  0.0002995 ,  0.00022586, ..., -0.00034803,\n",
       "        -0.00016739,  0.        ], dtype=float32),\n",
       " array([-1.4376246e-05, -8.6103319e-06,  1.1584468e-05, ...,\n",
       "         0.0000000e+00,  0.0000000e+00,  0.0000000e+00], dtype=float32),\n",
       " array([-1.0269742e-04, -1.1562259e-04, -5.7018577e-05, ...,\n",
       "         1.5880828e-04,  1.0651021e-04,  4.4874527e-05], dtype=float32),\n",
       " array([0.00027796, 0.00021912, 0.00010891, ..., 0.        , 0.        ,\n",
       "        0.        ], dtype=float32),\n",
       " array([-0.00566045, -0.00318322,  0.0028074 , ...,  0.0012298 ,\n",
       "        -0.0018155 , -0.00130164], dtype=float32),\n",
       " array([ 0.0074111 , -0.00066963,  0.00580963, ..., -0.00239012,\n",
       "        -0.00014251,  0.00242166], dtype=float32),\n",
       " array([ 1.8545632e-04,  2.5080206e-04,  3.1179585e-04, ...,\n",
       "        -1.7973300e-04, -1.0850575e-04, -3.9767991e-05], dtype=float32),\n",
       " array([ 0.00602046, -0.00417747, -0.01128042, ...,  0.00310849,\n",
       "         0.00451879, -0.00357889], dtype=float32),\n",
       " array([ 0.00076195,  0.00057947,  0.00086337, ...,  0.00121465,\n",
       "         0.00149679, -0.00253747], dtype=float32),\n",
       " array([2.0702873e-04, 3.0814490e-04, 3.6868095e-04, ..., 1.1951883e-05,\n",
       "        6.1170620e-05, 6.9018548e-05], dtype=float32),\n",
       " array([-0.00030165, -0.00028484, -0.0002044 , ...,  0.        ,\n",
       "         0.        ,  0.        ], dtype=float32),\n",
       " array([ 8.1169957e-05,  1.7558945e-05, -8.3036743e-05, ...,\n",
       "        -3.2219905e-06,  7.0135939e-06,  0.0000000e+00], dtype=float32),\n",
       " array([-0.00942192, -0.00187948, -0.00099539, ..., -0.00260248,\n",
       "         0.00282485,  0.00024225], dtype=float32),\n",
       " array([0.0002345 , 0.00028355, 0.0002654 , ..., 0.        , 0.        ,\n",
       "        0.        ], dtype=float32),\n",
       " array([ 5.63835492e-05,  8.79607396e-05,  1.02247956e-04, ...,\n",
       "        -9.46870714e-05, -8.05211021e-05, -7.15456408e-05], dtype=float32),\n",
       " array([ 0.00065013, -0.00093996, -0.00486985, ..., -0.00038503,\n",
       "        -0.00239989, -0.00174767], dtype=float32),\n",
       " array([-2.0856530e-04, -2.4585921e-04, -2.2488649e-04, ...,\n",
       "         3.5194691e-05,  9.2445582e-05,  7.0135771e-05], dtype=float32),\n",
       " array([ 0.00067174,  0.01141704,  0.01804962, ..., -0.00623189,\n",
       "         0.00263797,  0.        ], dtype=float32),\n",
       " array([-3.5749219e-04,  3.1333223e-03, -7.8260586e-05, ...,\n",
       "         0.0000000e+00,  0.0000000e+00,  0.0000000e+00], dtype=float32),\n",
       " array([-0.00317642,  0.00346933,  0.00111121, ...,  0.00091708,\n",
       "         0.00010685,  0.0043615 ], dtype=float32),\n",
       " array([-0.00027195,  0.00233879, -0.00181585, ..., -0.00040091,\n",
       "         0.00061065, -0.00146218], dtype=float32),\n",
       " array([ 0.00797814,  0.01371811, -0.01980176, ..., -0.00513743,\n",
       "        -0.00284852,  0.0004487 ], dtype=float32),\n",
       " array([ 0.00058648,  0.00057411, -0.0005444 , ...,  0.        ,\n",
       "         0.        ,  0.        ], dtype=float32),\n",
       " array([2.9844407e-04, 3.6896230e-04, 4.1608431e-04, ..., 9.7286451e-05,\n",
       "        4.7669695e-05, 1.3701130e-05], dtype=float32),\n",
       " array([ 0.00328346, -0.00488626, -0.00385935, ..., -0.00273383,\n",
       "        -0.00114564, -0.00175239], dtype=float32),\n",
       " array([ 7.0335143e-03,  5.2904496e-03, -1.0092794e-03, ...,\n",
       "        -2.0459217e-03,  5.3767148e-05,  6.2465580e-04], dtype=float32),\n",
       " array([-0.00356132, -0.00843555, -0.00151635, ..., -0.00320074,\n",
       "        -0.00251696,  0.00109175], dtype=float32),\n",
       " array([3.5829665e-04, 4.7989510e-04, 5.1869248e-04, ..., 3.1117606e-04,\n",
       "        2.3264365e-04, 7.2873787e-05], dtype=float32),\n",
       " array([1.7945642e-04, 2.3648850e-04, 2.8822379e-04, ..., 9.7844597e-05,\n",
       "        6.0277162e-05, 2.2292565e-05], dtype=float32),\n",
       " array([-9.4812007e-05, -1.5411925e-04, -2.0095466e-04, ...,\n",
       "         2.0821823e-05,  9.1004418e-05,  1.1422891e-04], dtype=float32),\n",
       " array([ 9.6976291e-06,  9.5743555e-05,  2.1183879e-04, ...,\n",
       "        -4.2725349e-04, -2.7928682e-04, -1.2698883e-04], dtype=float32),\n",
       " array([ 0.00614103,  0.00241514,  0.02884107, ..., -0.00307454,\n",
       "         0.00068232, -0.00310001], dtype=float32),\n",
       " array([ 0.00260778, -0.00356249, -0.01391502, ...,  0.00061077,\n",
       "         0.00139378, -0.02619194], dtype=float32),\n",
       " array([ 6.4299500e-04,  8.0655119e-04,  9.3914446e-04, ...,\n",
       "        -8.8429282e-05, -2.2942742e-04, -4.2877565e-04], dtype=float32),\n",
       " array([0.00200713, 0.00091666, 0.00303856, ..., 0.        , 0.        ,\n",
       "        0.        ], dtype=float32),\n",
       " array([0.00050233, 0.00060182, 0.00054285, ..., 0.        , 0.        ,\n",
       "        0.        ], dtype=float32),\n",
       " array([-0.00323313,  0.00866026,  0.01372784, ...,  0.        ,\n",
       "         0.        ,  0.        ], dtype=float32),\n",
       " array([ 3.25467205e-04,  2.98246538e-04,  1.98005597e-04, ...,\n",
       "        -8.34821039e-05, -1.03137056e-04, -1.00877434e-04], dtype=float32),\n",
       " array([ 5.3322688e-05,  3.1482352e-05, -6.4488909e-06, ...,\n",
       "         0.0000000e+00,  0.0000000e+00,  0.0000000e+00], dtype=float32),\n",
       " array([-0.00011718, -0.00020145, -0.00025866, ..., -0.00014687,\n",
       "        -0.00023912, -0.00028532], dtype=float32),\n",
       " array([ 0.00025426,  0.00038146,  0.00038846, ..., -0.00018265,\n",
       "        -0.00028755, -0.00033125], dtype=float32),\n",
       " array([-0.0073757 ,  0.00483682, -0.00064514, ...,  0.        ,\n",
       "         0.        ,  0.        ], dtype=float32),\n",
       " array([ 5.0890574e-04,  6.1138911e-04,  4.3271366e-04, ...,\n",
       "        -1.7059596e-05,  1.0117542e-06,  3.4030661e-05], dtype=float32),\n",
       " array([-0.00638401,  0.00118814, -0.00063447, ...,  0.        ,\n",
       "         0.        ,  0.        ], dtype=float32),\n",
       " array([0.00227482, 0.01187518, 0.00843593, ..., 0.00752073, 0.0096559 ,\n",
       "        0.00986797], dtype=float32),\n",
       " array([-2.7161226e-05, -1.9047373e-05,  1.0709558e-05, ...,\n",
       "        -7.4809628e-05, -6.8012785e-05, -7.7710407e-05], dtype=float32),\n",
       " array([ 0.00848598,  0.00838072,  0.01173469, ..., -0.01338877,\n",
       "        -0.01127472, -0.00185493], dtype=float32),\n",
       " array([-0.00212663,  0.00175654,  0.0006243 , ...,  0.        ,\n",
       "         0.        ,  0.        ], dtype=float32),\n",
       " array([ 7.1234698e-04,  8.7542366e-04,  8.4126793e-04, ...,\n",
       "        -4.3854841e-05, -4.9707920e-05, -2.5288165e-05], dtype=float32),\n",
       " array([-1.01151485e-02,  6.57043140e-03, -6.53768983e-03, ...,\n",
       "        -2.78748553e-06,  1.39405847e-06,  5.80514234e-06], dtype=float32),\n",
       " array([-0.0003083 , -0.00036666, -0.00040186, ...,  0.00016301,\n",
       "         0.00010313,  0.        ], dtype=float32),\n",
       " array([3.8984438e-04, 5.8198336e-04, 6.3180935e-04, ..., 2.6319474e-05,\n",
       "        1.8245795e-05, 1.6739885e-05], dtype=float32),\n",
       " array([-0.01870622,  0.01045941,  0.00126833, ..., -0.00134026,\n",
       "        -0.01099488, -0.00157145], dtype=float32),\n",
       " array([-0.02348606, -0.01058125,  0.01110801, ...,  0.00284725,\n",
       "         0.00190566, -0.00272492], dtype=float32),\n",
       " array([-0.00066028,  0.00244207,  0.00169402, ...,  0.        ,\n",
       "         0.        ,  0.        ], dtype=float32),\n",
       " array([ 6.3798187e-05,  3.2360724e-05, -1.5618018e-05, ...,\n",
       "        -3.3028973e-05, -1.7495096e-05, -7.9744459e-06], dtype=float32),\n",
       " array([ 7.61277843e-05,  1.06515465e-04,  1.24473838e-04, ...,\n",
       "        -5.86834038e-04, -5.33670245e-04, -5.61477966e-04], dtype=float32),\n",
       " array([-0.0170767 ,  0.02103795,  0.01026585, ..., -0.0060631 ,\n",
       "        -0.00416561, -0.01206289], dtype=float32),\n",
       " array([-0.00257633,  0.00500651, -0.00297903, ..., -0.00157832,\n",
       "         0.00348133,  0.00950125], dtype=float32),\n",
       " array([ 0.00061214,  0.00021137, -0.00552817, ..., -0.00026879,\n",
       "        -0.00042891,  0.00025466], dtype=float32),\n",
       " array([-0.00364433,  0.01433928,  0.0022976 , ...,  0.00027579,\n",
       "         0.0004497 , -0.00098695], dtype=float32),\n",
       " array([-0.00033113, -0.00046577, -0.00049454, ...,  0.        ,\n",
       "         0.        ,  0.        ], dtype=float32),\n",
       " array([-0.0188784 , -0.03046087,  0.003074  , ...,  0.00368313,\n",
       "         0.00544772,  0.00333856], dtype=float32),\n",
       " array([-0.00014977, -0.00021353, -0.00028122, ..., -0.00035362,\n",
       "        -0.0001984 ,  0.        ], dtype=float32),\n",
       " array([0.00025653, 0.00034559, 0.00038923, ..., 0.        , 0.        ,\n",
       "        0.        ], dtype=float32),\n",
       " array([0.00073174, 0.0008616 , 0.00081072, ..., 0.        , 0.        ,\n",
       "        0.        ], dtype=float32),\n",
       " array([0.00061994, 0.0006768 , 0.00056057, ..., 0.00023344, 0.00027205,\n",
       "        0.00032558], dtype=float32),\n",
       " array([ 0.0033447 , -0.00941502, -0.01248177, ...,  0.        ,\n",
       "         0.        ,  0.        ], dtype=float32),\n",
       " array([-0.02319987,  0.00589659,  0.01337135, ...,  0.00443439,\n",
       "        -0.00171404, -0.0054698 ], dtype=float32),\n",
       " array([ 0.01774328, -0.00138041,  0.01715086, ...,  0.00386275,\n",
       "         0.01176441, -0.00889259], dtype=float32),\n",
       " array([ 0.00467875, -0.02001674,  0.00217522, ..., -0.00248279,\n",
       "         0.00112805, -0.00085943], dtype=float32),\n",
       " array([-0.00389777, -0.00059628,  0.00510751, ..., -0.00100873,\n",
       "        -0.00349169,  0.0013264 ], dtype=float32),\n",
       " array([ 0.00047304, -0.00558782,  0.00284679, ..., -0.00424411,\n",
       "        -0.00256426, -0.01013836], dtype=float32),\n",
       " array([0.01041099, 0.00184313, 0.01056445, ..., 0.        , 0.        ,\n",
       "        0.        ], dtype=float32),\n",
       " array([-0.02221886,  0.00064086, -0.00866597, ..., -0.00315913,\n",
       "         0.00225191, -0.00854889], dtype=float32),\n",
       " array([-2.6394747e-04, -3.6839343e-04, -4.1028700e-04, ...,\n",
       "        -6.6649191e-05, -1.0851959e-04, -1.6090440e-04], dtype=float32),\n",
       " array([ 2.0469831e-02,  1.2798888e-02, -5.9768087e-03, ...,\n",
       "         3.9055871e-05, -4.5413091e-03,  6.6502821e-03], dtype=float32),\n",
       " array([-2.6769310e-05, -4.4562700e-03,  9.0891169e-03, ...,\n",
       "         1.3736126e-02,  1.7583779e-04,  6.4816377e-03], dtype=float32),\n",
       " array([0.00459006, 0.00593944, 0.00616836, ..., 0.        , 0.        ,\n",
       "        0.        ], dtype=float32),\n",
       " array([0.00051165, 0.0004489 , 0.00025764, ..., 0.00023157, 0.00019196,\n",
       "        0.00013707], dtype=float32),\n",
       " array([ 0.00544309,  0.01051898,  0.03247299, ..., -0.00093115,\n",
       "         0.00490871, -0.00510145], dtype=float32),\n",
       " array([ 0.00370786,  0.00809841,  0.00348939, ..., -0.0011649 ,\n",
       "        -0.00395307,  0.00034018], dtype=float32),\n",
       " array([0.00158462, 0.00219279, 0.00276398, ..., 0.        , 0.        ,\n",
       "        0.        ], dtype=float32),\n",
       " array([-0.00854439,  0.00592139,  0.00074153, ...,  0.        ,\n",
       "         0.        ,  0.        ], dtype=float32),\n",
       " array([ 1.3684887e-04,  1.6764613e-04,  1.7360545e-04, ...,\n",
       "        -1.2800905e-04, -5.3316122e-05,  0.0000000e+00], dtype=float32),\n",
       " array([ 0.00593018, -0.00176626,  0.00351038, ...,  0.0123517 ,\n",
       "        -0.00246416,  0.00242041], dtype=float32),\n",
       " array([-0.00987192, -0.00089721,  0.00739844, ..., -0.01574762,\n",
       "        -0.01502444,  0.00318854], dtype=float32),\n",
       " array([2.6184128e-04, 2.8956775e-04, 2.0595749e-04, ..., 1.6110940e-04,\n",
       "        1.3054087e-04, 9.8662102e-05], dtype=float32),\n",
       " array([1.7148515e-05, 1.8798528e-05, 1.5271704e-05, ..., 0.0000000e+00,\n",
       "        0.0000000e+00, 0.0000000e+00], dtype=float32),\n",
       " array([ 0.00186484, -0.00650871,  0.00534832, ..., -0.00400099,\n",
       "        -0.00050488,  0.01118566], dtype=float32),\n",
       " array([-0.00355869, -0.00023651, -0.00046838, ..., -0.00082875,\n",
       "         0.00039583,  0.00370744], dtype=float32),\n",
       " array([-0.00500687,  0.00041675,  0.00179449, ...,  0.        ,\n",
       "         0.        ,  0.        ], dtype=float32),\n",
       " array([ 0.0091176 ,  0.0043283 , -0.00903775, ..., -0.00115306,\n",
       "        -0.00269833, -0.00324735], dtype=float32),\n",
       " array([-0.00990699, -0.00288287, -0.00618341, ..., -0.00482325,\n",
       "         0.00065739,  0.00095614], dtype=float32),\n",
       " array([ 0.00520417, -0.00211991, -0.00124656, ..., -0.00075903,\n",
       "        -0.00068238, -0.00385572], dtype=float32),\n",
       " array([-0.00103732,  0.00056997, -0.00137902, ...,  0.00078713,\n",
       "         0.00500997,  0.00305543], dtype=float32),\n",
       " array([-1.4872888e-04, -1.1070937e-04, -3.2571967e-05, ...,\n",
       "        -9.4111252e-05,  7.7546219e-06,  1.2356404e-04], dtype=float32),\n",
       " array([ 0.00844369, -0.00270302, -0.00545698, ...,  0.01068058,\n",
       "         0.00039655,  0.00043307], dtype=float32),\n",
       " array([ 0.00063631, -0.00741798, -0.00305658, ...,  0.        ,\n",
       "         0.        ,  0.        ], dtype=float32),\n",
       " array([ 5.8498769e-04,  6.3120615e-04,  5.9317809e-04, ...,\n",
       "        -4.2666987e-05,  8.7946391e-06,  2.6907946e-05], dtype=float32),\n",
       " array([-5.5608111e-03, -2.6716123e-05,  4.9590850e-03, ...,\n",
       "        -2.8950083e-03,  1.5753272e-03, -4.1568377e-03], dtype=float32),\n",
       " array([ 0.00522201, -0.00246986, -0.0062772 , ..., -0.00302842,\n",
       "         0.00446064, -0.00706453], dtype=float32),\n",
       " array([ 0.00479646,  0.00680198,  0.00423175, ..., -0.00327491,\n",
       "        -0.00199986, -0.00234405], dtype=float32),\n",
       " array([-1.2344713e-04, -1.6030113e-04, -1.8782780e-04, ...,\n",
       "         3.7416616e-05,  2.3440771e-05,  1.1989902e-05], dtype=float32),\n",
       " array([ 1.14926974e-04, -7.01997124e-06, -2.69401178e-04, ...,\n",
       "         3.66663189e-05,  5.36825391e-05,  5.20697868e-05], dtype=float32),\n",
       " array([-1.2368138e-04, -2.2611037e-04, -3.1296568e-04, ...,\n",
       "         1.3461136e-04,  1.2331840e-04,  6.4991851e-05], dtype=float32),\n",
       " array([ 7.1474886e-04,  1.0148559e-03,  1.3320937e-03, ...,\n",
       "        -7.2867551e-06,  3.4745608e-06,  0.0000000e+00], dtype=float32),\n",
       " array([ 0.00304802,  0.00349849, -0.00756622, ..., -0.00139898,\n",
       "         0.00777857,  0.00116954], dtype=float32),\n",
       " array([1.5558410e-04, 1.3836645e-04, 9.2815993e-05, ..., 3.8927268e-05,\n",
       "        9.0732043e-05, 1.2720465e-04], dtype=float32),\n",
       " array([0.0002761 , 0.00039942, 0.00036819, ..., 0.        , 0.        ,\n",
       "        0.        ], dtype=float32),\n",
       " array([ 0.00462454,  0.01123446,  0.00284267, ..., -0.00164569,\n",
       "        -0.0001401 ,  0.0001496 ], dtype=float32),\n",
       " array([ 1.71538239e-04,  1.01178564e-04, -4.04389721e-05, ...,\n",
       "        -1.12537004e-04, -8.72235323e-05, -4.78276888e-05], dtype=float32),\n",
       " array([-0.00484052,  0.00594963, -0.00115144, ...,  0.        ,\n",
       "         0.        ,  0.        ], dtype=float32),\n",
       " array([ 0.0010713 ,  0.00124406,  0.00130976, ..., -0.00016159,\n",
       "        -0.00030045, -0.0004373 ], dtype=float32),\n",
       " array([0.00042415, 0.00045706, 0.00043559, ..., 0.        , 0.        ,\n",
       "        0.        ], dtype=float32),\n",
       " array([ 0.02243301, -0.01169137, -0.02231473, ..., -0.01653156,\n",
       "         0.01106027, -0.01464324], dtype=float32),\n",
       " array([9.7031426e-04, 1.0866707e-03, 1.0969682e-03, ..., 3.3054039e-05,\n",
       "        2.0540643e-05, 1.2379768e-05], dtype=float32),\n",
       " array([-0.00103304, -0.00141717, -0.00128262, ..., -0.00068781,\n",
       "        -0.0006825 , -0.00078588], dtype=float32),\n",
       " array([0.00231829, 0.00232608, 0.00477839, ..., 0.        , 0.        ,\n",
       "        0.        ], dtype=float32),\n",
       " array([4.2145504e-05, 4.5650886e-05, 4.2315471e-05, ..., 1.7613242e-04,\n",
       "        1.9786214e-04, 1.9969206e-04], dtype=float32),\n",
       " array([0.00014632, 0.0002262 , 0.0003088 , ..., 0.        , 0.        ,\n",
       "        0.        ], dtype=float32),\n",
       " array([-0.00311253, -0.01797289,  0.00120029, ..., -0.00757793,\n",
       "         0.01503583,  0.02061301], dtype=float32),\n",
       " array([ 1.2770917e-04,  2.3416850e-04,  3.2117352e-04, ...,\n",
       "        -3.9647377e-05, -5.4323842e-05, -8.3108418e-05], dtype=float32),\n",
       " array([0.00043463, 0.00058366, 0.00062378, ..., 0.        , 0.        ,\n",
       "        0.        ], dtype=float32),\n",
       " array([ 0.00721613,  0.00411645, -0.00524213, ...,  0.00217541,\n",
       "         0.00363318,  0.00054716], dtype=float32),\n",
       " array([ 0.00166146,  0.00205069,  0.00196624, ..., -0.00015603,\n",
       "        -0.00022611, -0.00022119], dtype=float32),\n",
       " array([ 0.00904011,  0.00176812,  0.01275026, ...,  0.00094921,\n",
       "        -0.01118876, -0.0054169 ], dtype=float32),\n",
       " array([1.48289604e-04, 1.29886539e-04, 8.56532424e-05, ...,\n",
       "        1.18264215e-05, 1.05208192e-05, 7.23869198e-06], dtype=float32),\n",
       " array([ 3.4401257e-04,  4.9862266e-04,  6.6251686e-04, ...,\n",
       "        -1.3438413e-04, -1.0375442e-04, -9.0303009e-05], dtype=float32),\n",
       " array([ 0.01377723, -0.00670148,  0.0022107 , ...,  0.        ,\n",
       "         0.        ,  0.        ], dtype=float32),\n",
       " array([0.00042849, 0.00044991, 0.00027247, ..., 0.        , 0.        ,\n",
       "        0.        ], dtype=float32),\n",
       " array([2.8549100e-04, 3.0080831e-04, 2.1017366e-04, ..., 1.0084287e-04,\n",
       "        9.0729518e-05, 3.5754976e-05], dtype=float32),\n",
       " array([-0.01578067,  0.00731544, -0.0215861 , ..., -0.00880812,\n",
       "         0.02174522, -0.00914305], dtype=float32),\n",
       " array([-0.00041133,  0.00104217, -0.00092066, ..., -0.00039992,\n",
       "         0.0004326 ,  0.00069797], dtype=float32),\n",
       " array([4.7422098e-05, 3.3616554e-05, 1.0610626e-05, ..., 0.0000000e+00,\n",
       "        0.0000000e+00, 0.0000000e+00], dtype=float32),\n",
       " array([-0.00255124, -0.00316606,  0.00122692, ...,  0.        ,\n",
       "         0.        ,  0.        ], dtype=float32),\n",
       " array([-2.0859143e-05,  6.5507913e-05,  1.9342847e-04, ...,\n",
       "        -1.6787859e-05,  1.8085233e-05,  3.4176766e-05], dtype=float32),\n",
       " array([-0.00502544, -0.00655016,  0.00728147, ..., -0.00743063,\n",
       "        -0.00731345, -0.01452262], dtype=float32),\n",
       " array([0.00011747, 0.00019022, 0.00028191, ..., 0.00022628, 0.00021491,\n",
       "        0.00016162], dtype=float32),\n",
       " array([0.00029494, 0.00038492, 0.00042079, ..., 0.        , 0.        ,\n",
       "        0.        ], dtype=float32),\n",
       " array([-0.00012559, -0.0001336 , -0.00010894, ..., -0.0003762 ,\n",
       "        -0.00023315,  0.        ], dtype=float32),\n",
       " array([-3.9032029e-04, -4.0257466e-04, -3.6187100e-04, ...,\n",
       "        -6.4488275e-05, -7.0454524e-05, -8.1177139e-05], dtype=float32),\n",
       " array([ 7.3936142e-05, -3.5554473e-05, -2.1864063e-04, ...,\n",
       "         2.5225588e-04,  2.1765854e-04,  1.1337967e-04], dtype=float32),\n",
       " array([-0.00765454,  0.00107473, -0.00497317, ...,  0.00304662,\n",
       "        -0.00127475,  0.00985113], dtype=float32),\n",
       " array([ 8.6326525e-04,  8.8802894e-04,  7.8442128e-04, ...,\n",
       "        -1.1204858e-05,  4.7520425e-06,  6.7342698e-06], dtype=float32),\n",
       " array([-2.7017461e-04, -3.0300120e-04, -2.4731708e-04, ...,\n",
       "        -1.4182727e-05, -3.0393596e-05, -4.3030734e-05], dtype=float32),\n",
       " array([ 0.00082097, -0.00454983, -0.00021291, ...,  0.        ,\n",
       "         0.        ,  0.        ], dtype=float32),\n",
       " array([8.67367562e-05, 1.20810044e-04, 1.12256857e-04, ...,\n",
       "        2.35790776e-05, 1.18758486e-04, 9.45640058e-05], dtype=float32),\n",
       " array([ 0.02603834,  0.00955111,  0.01785586, ...,  0.00489143,\n",
       "        -0.01192719, -0.02598019], dtype=float32),\n",
       " array([-1.2412519e-04, -1.6577216e-04, -1.8697337e-04, ...,\n",
       "         6.4089518e-06, -6.4364540e-05, -1.5766942e-04], dtype=float32),\n",
       " array([-9.6321746e-04, -5.6230626e-04, -1.6018762e-03, ...,\n",
       "        -4.3472067e-08, -3.5094448e-08, -2.3593222e-07], dtype=float32),\n",
       " array([ 0.00391448, -0.00583968, -0.00188165, ...,  0.        ,\n",
       "         0.        ,  0.        ], dtype=float32),\n",
       " array([-2.5275626e-04, -2.5546027e-04, -1.7746515e-04, ...,\n",
       "        -1.3577292e-16,  3.6143086e-15,  1.8044557e-15], dtype=float32),\n",
       " array([ 0.01666212, -0.00819048, -0.00226851, ..., -0.00401925,\n",
       "        -0.01843729,  0.01868576], dtype=float32),\n",
       " array([ 0.02492052,  0.0173382 ,  0.02320717, ...,  0.00910451,\n",
       "        -0.00554466, -0.0145185 ], dtype=float32),\n",
       " array([ 4.7071639e-04,  5.2938593e-04,  5.0926470e-04, ...,\n",
       "        -4.8957125e-05, -2.9481271e-06,  1.9776529e-05], dtype=float32),\n",
       " array([ 0.00734019, -0.00060828,  0.00950258, ...,  0.        ,\n",
       "         0.        ,  0.        ], dtype=float32),\n",
       " array([-0.00556982, -0.01482718,  0.0046992 , ...,  0.        ,\n",
       "         0.        ,  0.        ], dtype=float32),\n",
       " array([-0.00040833, -0.000526  , -0.00061875, ..., -0.00034349,\n",
       "        -0.0002267 , -0.00010762], dtype=float32),\n",
       " array([0.00035351, 0.00046847, 0.0004077 , ..., 0.        , 0.        ,\n",
       "        0.        ], dtype=float32),\n",
       " array([ 0.02582089,  0.03216541, -0.01086502, ...,  0.        ,\n",
       "         0.        ,  0.        ], dtype=float32),\n",
       " array([ 4.1347960e-04,  5.4455758e-04,  5.1752618e-04, ...,\n",
       "        -6.3054035e-06, -2.0751479e-06,  2.9506400e-06], dtype=float32),\n",
       " array([ 0.00584424, -0.01824166, -0.0257661 , ...,  0.        ,\n",
       "         0.        ,  0.        ], dtype=float32),\n",
       " array([ 0.00048821, -0.0029321 , -0.00226253, ...,  0.00206124,\n",
       "        -0.00112547, -0.00037279], dtype=float32),\n",
       " array([ 0.00978583, -0.00047507,  0.00381781, ...,  0.00374351,\n",
       "        -0.00349438, -0.00223055], dtype=float32),\n",
       " array([-0.0065958 ,  0.0108828 ,  0.0019926 , ...,  0.01685609,\n",
       "        -0.02574234,  0.00678202], dtype=float32),\n",
       " array([ 0.0166819 , -0.01047201, -0.00181309, ..., -0.01741174,\n",
       "         0.00030957,  0.00415549], dtype=float32),\n",
       " array([-0.00314804, -0.00869884,  0.01362829, ...,  0.00091492,\n",
       "         0.00537934, -0.00389659], dtype=float32),\n",
       " array([-0.00186817,  0.00184937, -0.0026281 , ...,  0.00015007,\n",
       "        -0.00086611, -0.00284316], dtype=float32),\n",
       " array([ 0.00044642,  0.00056617,  0.00057783, ..., -0.00050951,\n",
       "        -0.00057891, -0.00034795], dtype=float32),\n",
       " array([-0.00792922, -0.01711286,  0.00600938, ...,  0.00182667,\n",
       "        -0.00516056, -0.00050512], dtype=float32),\n",
       " array([4.9721671e-06, 2.0117552e-05, 4.3363107e-05, ..., 0.0000000e+00,\n",
       "        0.0000000e+00, 0.0000000e+00], dtype=float32),\n",
       " array([-0.00033793, -0.00037109, -0.00031248, ...,  0.00593909,\n",
       "         0.00481177,  0.00409072], dtype=float32),\n",
       " array([0.00097384, 0.00111233, 0.00112952, ..., 0.        , 0.        ,\n",
       "        0.        ], dtype=float32),\n",
       " array([0.00033249, 0.00046385, 0.00049075, ..., 0.        , 0.        ,\n",
       "        0.        ], dtype=float32),\n",
       " array([0., 0., 0., ..., 0., 0., 0.], dtype=float32),\n",
       " array([-2.3750264e-04, -2.2503533e-04, -1.7145017e-04, ...,\n",
       "        -1.5120229e-04, -8.4173742e-05,  0.0000000e+00], dtype=float32),\n",
       " array([ 4.0752284e-04,  5.0268142e-04,  5.0089520e-04, ...,\n",
       "        -4.3494318e-05, -5.1384868e-06,  6.5921722e-06], dtype=float32),\n",
       " array([ 0.02332689,  0.00220169, -0.00198335, ..., -0.00047759,\n",
       "         0.00012467, -0.02061438], dtype=float32),\n",
       " array([-0.00220373,  0.00030037, -0.00129953, ...,  0.        ,\n",
       "         0.        ,  0.        ], dtype=float32),\n",
       " array([ 0.00198066, -0.00987926, -0.00572899, ..., -0.00539094,\n",
       "        -0.00142284,  0.00083762], dtype=float32),\n",
       " array([-1.3185332e-03, -1.5486864e-03, -1.6528396e-03, ...,\n",
       "        -2.5482971e-04, -1.7874577e-04, -7.9154066e-05], dtype=float32),\n",
       " array([0.00010465, 0.00013828, 0.0001402 , ..., 0.00020586, 0.0002536 ,\n",
       "        0.00011793], dtype=float32),\n",
       " array([-0.00148288,  0.00799422,  0.01746352, ..., -0.00804102,\n",
       "         0.011814  , -0.00684518], dtype=float32),\n",
       " array([ 0.00040765,  0.01111869,  0.00854623, ..., -0.00319198,\n",
       "        -0.00110784,  0.00067856], dtype=float32),\n",
       " array([ 0.00324178,  0.00223708, -0.00882499, ...,  0.        ,\n",
       "         0.        ,  0.        ], dtype=float32),\n",
       " array([ 0.0184086 , -0.01892586, -0.01112199, ..., -0.00461253,\n",
       "        -0.00083496,  0.00752822], dtype=float32),\n",
       " array([ 0.00018561,  0.00033786,  0.0005424 , ..., -0.00031952,\n",
       "        -0.00011848,  0.        ], dtype=float32),\n",
       " array([ 2.0011941e-04,  1.0337682e-04, -2.0419767e-04, ...,\n",
       "         7.7239129e-05,  6.9220885e-05,  9.2536568e-05], dtype=float32),\n",
       " array([0.00942759, 0.00535278, 0.00505352, ..., 0.        , 0.        ,\n",
       "        0.        ], dtype=float32),\n",
       " array([ 0.00489869,  0.00274977,  0.01202358, ..., -0.00778006,\n",
       "        -0.00285672, -0.00286321], dtype=float32),\n",
       " array([4.2395576e-04, 5.1498669e-04, 5.8697141e-04, ..., 2.8905866e-04,\n",
       "        1.9893813e-04, 8.5946405e-05], dtype=float32),\n",
       " array([-0.02914706, -0.00649317,  0.00056226, ...,  0.01490419,\n",
       "         0.00572318, -0.01796351], dtype=float32),\n",
       " array([ 1.0376592e-04,  9.8374192e-05,  4.4105971e-05, ...,\n",
       "        -1.0740395e-04, -1.2005065e-04, -1.9395727e-04], dtype=float32),\n",
       " array([-1.05606756e-04, -9.95205046e-05, -5.53666032e-05, ...,\n",
       "         9.90760236e-05,  8.28337288e-05,  8.02710565e-05], dtype=float32),\n",
       " array([-0.00025453, -0.00043044, -0.00052278, ...,  0.        ,\n",
       "         0.        ,  0.        ], dtype=float32),\n",
       " array([ 8.8570721e-04,  1.0648060e-03,  1.1640893e-03, ...,\n",
       "         1.4941892e-05, -5.7720463e-06,  0.0000000e+00], dtype=float32),\n",
       " array([-0.0128279 ,  0.00831293, -0.00274097, ...,  0.        ,\n",
       "         0.        ,  0.        ], dtype=float32),\n",
       " array([ 0.0117565 , -0.0081316 ,  0.00259894, ...,  0.        ,\n",
       "         0.        ,  0.        ], dtype=float32),\n",
       " array([-0.00131181, -0.00219941, -0.00162514, ...,  0.00127542,\n",
       "        -0.00031802, -0.00063994], dtype=float32),\n",
       " array([ 2.3569644e-04,  2.8267241e-04,  2.3747682e-04, ...,\n",
       "         4.3107475e-06, -3.3542754e-05, -4.6180568e-05], dtype=float32),\n",
       " array([ 4.0529532e-04,  3.0371017e-04,  9.6260570e-05, ...,\n",
       "        -1.4438326e-04, -9.0183821e-05, -3.8143524e-05], dtype=float32),\n",
       " array([ 2.4045973e-04,  1.7137067e-04, -3.5735015e-05, ...,\n",
       "        -6.7804052e-05, -1.6411403e-05,  1.1349282e-05], dtype=float32),\n",
       " array([ 0.00214876, -0.00129004,  0.00039569, ...,  0.        ,\n",
       "         0.        ,  0.        ], dtype=float32),\n",
       " array([ 0.01129575,  0.00965459, -0.01553012, ...,  0.        ,\n",
       "         0.        ,  0.        ], dtype=float32),\n",
       " array([-0.00019599, -0.00019257, -0.00015056, ...,  0.        ,\n",
       "         0.        ,  0.        ], dtype=float32),\n",
       " array([ 0.01912156, -0.00879497,  0.02995434, ..., -0.00821056,\n",
       "        -0.00015952, -0.0132226 ], dtype=float32),\n",
       " array([ 0.00035983,  0.00044598,  0.00043152, ..., -0.00053697,\n",
       "        -0.00120538, -0.00123484], dtype=float32),\n",
       " array([ 0.00224173, -0.00291716,  0.003121  , ..., -0.00318904,\n",
       "        -0.00113227,  0.0040219 ], dtype=float32),\n",
       " array([ 0.00733   ,  0.00800177, -0.0012758 , ...,  0.        ,\n",
       "         0.        ,  0.        ], dtype=float32),\n",
       " array([-0.02580038, -0.0036468 , -0.00966523, ...,  0.        ,\n",
       "         0.        ,  0.        ], dtype=float32),\n",
       " array([1.08869484e-04, 1.97651971e-04, 2.82939116e-04, ...,\n",
       "        1.06299216e-04, 1.35053924e-04, 6.38199635e-05], dtype=float32),\n",
       " array([ 0.00035083,  0.00043734,  0.00049685, ..., -0.00022112,\n",
       "        -0.0001934 , -0.00014101], dtype=float32),\n",
       " array([-0.00973817,  0.00366975,  0.0084949 , ..., -0.00053903,\n",
       "         0.00322952,  0.01416785], dtype=float32),\n",
       " array([-0.00334337, -0.01012413,  0.0056193 , ...,  0.        ,\n",
       "         0.        ,  0.        ], dtype=float32),\n",
       " array([ 2.73394224e-04,  3.04796151e-04,  2.93916237e-04, ...,\n",
       "        -6.18802223e-05, -2.80387521e-05, -1.00509915e-05], dtype=float32),\n",
       " array([0.00030152, 0.000416  , 0.000369  , ..., 0.00020939, 0.00021229,\n",
       "        0.00025372], dtype=float32),\n",
       " array([-0.01355476,  0.01545294,  0.013198  , ...,  0.        ,\n",
       "         0.        ,  0.        ], dtype=float32),\n",
       " array([ 1.6706737e-04,  1.7783933e-04,  1.7653062e-04, ...,\n",
       "        -3.5773040e-04, -2.1461134e-04, -8.7173372e-05], dtype=float32),\n",
       " array([6.9202164e-09, 9.0162882e-09, 1.6018475e-08, ..., 1.0068998e-03,\n",
       "        9.5325423e-04, 8.8734197e-04], dtype=float32),\n",
       " array([ 9.2603767e-04,  1.1145899e-03,  1.2281365e-03, ...,\n",
       "        -1.7147139e-04, -1.2546295e-04, -5.3122058e-05], dtype=float32),\n",
       " array([5.67441384e-05, 9.28831796e-05, 1.15561415e-04, ...,\n",
       "        3.63233528e-04, 2.86344788e-04, 1.96102439e-04], dtype=float32),\n",
       " array([ 3.7140877e-04,  4.2487629e-04,  4.3792673e-04, ...,\n",
       "        -4.7493493e-05,  2.4608336e-05,  2.9430026e-05], dtype=float32),\n",
       " array([-0.00533576,  0.00625459, -0.0140565 , ..., -0.00225196,\n",
       "        -0.00650774, -0.00110523], dtype=float32),\n",
       " array([-0.00221589,  0.00131452, -0.00037761, ...,  0.00071573,\n",
       "         0.00415112,  0.00299008], dtype=float32),\n",
       " array([0.00100091, 0.0056965 , 0.00314156, ..., 0.        , 0.        ,\n",
       "        0.        ], dtype=float32),\n",
       " array([ 7.6280795e-03,  7.3896451e-03,  9.4914818e-03, ...,\n",
       "         3.0582492e-09, -1.9638213e-09, -2.0330821e-09], dtype=float32),\n",
       " array([-0.00055494,  0.01845179, -0.00328082, ...,  0.00248261,\n",
       "         0.00175432, -0.0051342 ], dtype=float32),\n",
       " array([ 0.00053412, -0.00037448,  0.00275614, ...,  0.        ,\n",
       "         0.        ,  0.        ], dtype=float32),\n",
       " array([-2.0394491e-07, -2.7926279e-07, -2.8065492e-07, ...,\n",
       "         1.7594323e-04,  2.5652844e-04,  3.2406527e-04], dtype=float32),\n",
       " array([ 4.5022475e-08, -4.1824180e-09, -6.5829298e-08, ...,\n",
       "         1.4877063e-04,  1.9963842e-04,  1.4534476e-04], dtype=float32),\n",
       " array([ 0.00750025,  0.00180371, -0.03473712, ..., -0.00436687,\n",
       "         0.00268885,  0.01253243], dtype=float32),\n",
       " array([-8.6970365e-04,  8.5241842e-04,  1.8238843e-03, ...,\n",
       "         2.6066060e-05, -7.8141131e-04, -8.5857417e-04], dtype=float32),\n",
       " array([ 0.0147182 ,  0.00278983, -0.00948536, ...,  0.00201598,\n",
       "        -0.00282564,  0.00251242], dtype=float32),\n",
       " array([ 0.01124306,  0.00190474,  0.00884725, ..., -0.01547303,\n",
       "        -0.00413759, -0.01128746], dtype=float32),\n",
       " array([-0.01690597,  0.03175639, -0.01046949, ...,  0.00986511,\n",
       "        -0.00051152, -0.00137212], dtype=float32),\n",
       " array([-0.01692874, -0.01990827,  0.00085532, ...,  0.        ,\n",
       "         0.        ,  0.        ], dtype=float32),\n",
       " array([ 0.00080722, -0.00019324, -0.00340969, ...,  0.00483106,\n",
       "        -0.00135077, -0.00255918], dtype=float32),\n",
       " array([ 7.6279779e-05,  1.5157748e-04,  2.3717902e-04, ...,\n",
       "        -1.9217621e-05,  1.1975418e-05,  6.5123051e-05], dtype=float32),\n",
       " array([0.00042956, 0.00058079, 0.00049533, ..., 0.        , 0.        ,\n",
       "        0.        ], dtype=float32),\n",
       " array([ 0.00103732,  0.020245  , -0.01688395, ...,  0.        ,\n",
       "         0.        ,  0.        ], dtype=float32),\n",
       " array([-0.00014623,  0.00189542,  0.0035518 , ..., -0.0004808 ,\n",
       "         0.00017357, -0.00031161], dtype=float32),\n",
       " array([0.00051331, 0.00062669, 0.00055073, ..., 0.        , 0.        ,\n",
       "        0.        ], dtype=float32),\n",
       " array([ 1.6113675e-04,  1.2030827e-04, -1.4806170e-05, ...,\n",
       "         5.0214840e-05,  9.2761555e-05,  7.1656097e-05], dtype=float32),\n",
       " array([-0.00333832, -0.00507179, -0.00207859, ..., -0.00205438,\n",
       "        -0.00125431, -0.00103751], dtype=float32),\n",
       " array([ 0.00069593,  0.00071652,  0.00064241, ..., -0.00048377,\n",
       "        -0.00036241, -0.00019112], dtype=float32),\n",
       " array([-0.00722668,  0.00668523,  0.00717525, ...,  0.01213403,\n",
       "        -0.0091184 ,  0.002304  ], dtype=float32),\n",
       " array([-0.00282005, -0.00039196, -0.00864693, ...,  0.00242937,\n",
       "         0.00068735,  0.00116146], dtype=float32),\n",
       " array([ 0.00145928, -0.004159  ,  0.01289115, ...,  0.0063421 ,\n",
       "         0.00695095, -0.01433462], dtype=float32),\n",
       " array([-0.01045378, -0.00623532,  0.0017661 , ...,  0.        ,\n",
       "         0.        ,  0.        ], dtype=float32),\n",
       " array([-0.00011941, -0.00075762, -0.00131199, ...,  0.00194971,\n",
       "        -0.00184465,  0.00010577], dtype=float32),\n",
       " array([ 0.00140807, -0.01363099,  0.00215278, ...,  0.00435546,\n",
       "         0.01102548, -0.00845981], dtype=float32),\n",
       " array([-0.0228905 , -0.03185051,  0.00520206, ..., -0.00289602,\n",
       "         0.00255803, -0.00071067], dtype=float32),\n",
       " array([-0.00403254, -0.00139331,  0.00039555, ...,  0.00130287,\n",
       "         0.00012367,  0.00064872], dtype=float32),\n",
       " array([-0.01441842, -0.00953325, -0.00770078, ...,  0.        ,\n",
       "         0.        ,  0.        ], dtype=float32),\n",
       " array([1.86609861e-04, 1.68050290e-04, 1.53293149e-06, ...,\n",
       "        1.15004608e-04, 1.14828152e-04, 1.17492906e-04], dtype=float32),\n",
       " array([-3.4084046e-04, -2.7474860e-04, -6.4747932e-05, ...,\n",
       "        -9.1480637e-05, -5.3432464e-05,  0.0000000e+00], dtype=float32),\n",
       " array([-3.8667516e-05,  4.4946562e-05,  1.9087314e-04, ...,\n",
       "         0.0000000e+00,  0.0000000e+00,  0.0000000e+00], dtype=float32),\n",
       " array([-8.3575454e-03, -6.0596997e-03,  1.0169579e-03, ...,\n",
       "         1.0511359e-14, -1.0773991e-14,  3.3203359e-15], dtype=float32),\n",
       " array([ 1.1891425e-04,  9.3755574e-05,  2.0348523e-05, ...,\n",
       "         3.3641531e-18, -2.5890575e-18, -1.8457975e-18], dtype=float32),\n",
       " array([-0.00075752, -0.00082908, -0.0006489 , ...,  0.00017698,\n",
       "         0.00023435,  0.00013854], dtype=float32),\n",
       " array([ 0.0238103 ,  0.00025936, -0.03555695, ...,  0.        ,\n",
       "         0.        ,  0.        ], dtype=float32),\n",
       " array([ 5.2426121e-04,  6.9011177e-04,  7.2536693e-04, ...,\n",
       "        -8.1066879e-05, -2.5010962e-04, -1.7125992e-04], dtype=float32),\n",
       " array([0.00549076, 0.00557887, 0.00900391, ..., 0.001793  , 0.00269594,\n",
       "        0.        ], dtype=float32),\n",
       " array([-0.00025121, -0.00022579, -0.00011686, ...,  0.00033291,\n",
       "         0.00028075,  0.00015259], dtype=float32),\n",
       " array([ 0.00360995,  0.00204462, -0.00039   , ...,  0.00075184,\n",
       "         0.00047702,  0.00015711], dtype=float32),\n",
       " array([ 0.00247087,  0.00686324, -0.00131633, ..., -0.00214548,\n",
       "         0.00103755, -0.00210861], dtype=float32),\n",
       " array([ 3.60039237e-04,  4.38940566e-04,  3.45157168e-04, ...,\n",
       "        -6.35790930e-05, -1.17308766e-04, -1.87797850e-04], dtype=float32),\n",
       " array([0.00015345, 0.00020134, 0.00021963, ..., 0.        , 0.        ,\n",
       "        0.        ], dtype=float32),\n",
       " array([0.02079745, 0.00423252, 0.00864748, ..., 0.00193331, 0.00510049,\n",
       "        0.00207783], dtype=float32),\n",
       " array([-0.00553648, -0.00931174, -0.00508699, ...,  0.        ,\n",
       "         0.        ,  0.        ], dtype=float32),\n",
       " array([ 0.01443588, -0.00327886, -0.01547858, ...,  0.00290313,\n",
       "        -0.0014527 , -0.00248469], dtype=float32),\n",
       " array([8.1909588e-05, 6.1854822e-05, 1.3267141e-05, ..., 1.2268609e-04,\n",
       "        8.3152212e-05, 0.0000000e+00], dtype=float32),\n",
       " array([ 0.00065475,  0.00132386, -0.00164919, ..., -0.00423745,\n",
       "         0.00378566,  0.00446948], dtype=float32),\n",
       " array([-0.01038633, -0.00925075,  0.00852784, ..., -0.00345813,\n",
       "         0.00103456,  0.00500734], dtype=float32),\n",
       " array([ 1.1652785e-04,  1.5393487e-04,  1.6192385e-04, ...,\n",
       "         4.8999386e-15,  1.9187222e-14, -1.1870644e-14], dtype=float32),\n",
       " array([-2.5240234e-03, -8.6784805e-04, -2.3431773e-03, ...,\n",
       "        -6.5710687e-05, -2.8307212e-04, -1.3916872e-03], dtype=float32),\n",
       " array([ 2.9938563e-04,  3.3310312e-04,  3.4069805e-04, ...,\n",
       "         1.0938643e-13, -1.7688639e-13, -2.5757711e-13], dtype=float32),\n",
       " array([-0.00280775, -0.00492954,  0.0039117 , ...,  0.00333348,\n",
       "        -0.00185916,  0.00047239], dtype=float32),\n",
       " array([ 3.32716445e-04,  5.11002610e-04,  6.50864560e-04, ...,\n",
       "        -1.00553734e-04, -4.05164792e-05,  2.14846477e-06], dtype=float32),\n",
       " array([ 1.7033436e-04,  1.8955924e-04,  1.4999864e-04, ...,\n",
       "        -7.9739577e-05, -9.1932838e-05, -1.2184884e-04], dtype=float32),\n",
       " array([0.01243161, 0.00315207, 0.00931651, ..., 0.        , 0.        ,\n",
       "        0.        ], dtype=float32),\n",
       " array([0.00033211, 0.00050443, 0.00065565, ..., 0.        , 0.        ,\n",
       "        0.        ], dtype=float32),\n",
       " array([ 1.12885609e-04,  6.49691792e-05, -1.90152496e-05, ...,\n",
       "        -2.25087191e-04, -1.12508715e-04, -2.23919287e-05], dtype=float32),\n",
       " array([-0.01061934,  0.00786365, -0.01218214, ...,  0.        ,\n",
       "         0.        ,  0.        ], dtype=float32),\n",
       " array([0.00051796, 0.00061398, 0.00064567, ..., 0.        , 0.        ,\n",
       "        0.        ], dtype=float32),\n",
       " array([ 0.00194072, -0.00277617,  0.00808047, ...,  0.00171596,\n",
       "        -0.00599873,  0.00085413], dtype=float32),\n",
       " array([ 0.00015339,  0.00015985,  0.00012487, ..., -0.00012368,\n",
       "        -0.00011429, -0.00014759], dtype=float32)]"
      ]
     },
     "execution_count": 36,
     "metadata": {},
     "output_type": "execute_result"
    }
   ],
   "source": [
    "augmented_audio_list"
   ]
  },
  {
   "cell_type": "code",
   "execution_count": 37,
   "id": "3feb26cc",
   "metadata": {},
   "outputs": [],
   "source": [
    "df['Augmented_Data_Arrays'] = augmented_audio_list"
   ]
  },
  {
   "cell_type": "code",
   "execution_count": 38,
   "id": "7458e0ae",
   "metadata": {},
   "outputs": [
    {
     "data": {
      "text/html": [
       "<div>\n",
       "<style scoped>\n",
       "    .dataframe tbody tr th:only-of-type {\n",
       "        vertical-align: middle;\n",
       "    }\n",
       "\n",
       "    .dataframe tbody tr th {\n",
       "        vertical-align: top;\n",
       "    }\n",
       "\n",
       "    .dataframe thead th {\n",
       "        text-align: right;\n",
       "    }\n",
       "</style>\n",
       "<table border=\"1\" class=\"dataframe\">\n",
       "  <thead>\n",
       "    <tr style=\"text-align: right;\">\n",
       "      <th></th>\n",
       "      <th>Emission</th>\n",
       "      <th>Label</th>\n",
       "      <th>Data Arrays</th>\n",
       "      <th>Augmented_Data_Arrays</th>\n",
       "    </tr>\n",
       "  </thead>\n",
       "  <tbody>\n",
       "    <tr>\n",
       "      <th>153</th>\n",
       "      <td>/home/fll_data_bata/code/Franloplam/DB Gatos/d...</td>\n",
       "      <td>Isolated in unfamiliar Environment</td>\n",
       "      <td>[-2.4888912e-05, -1.9440304e-05, -5.703776e-06...</td>\n",
       "      <td>[-1.4376246e-05, -8.610332e-06, 1.1584468e-05,...</td>\n",
       "    </tr>\n",
       "    <tr>\n",
       "      <th>244</th>\n",
       "      <td>/home/fll_data_bata/code/Franloplam/DB Gatos/d...</td>\n",
       "      <td>Isolated in unfamiliar Environment</td>\n",
       "      <td>[1.5984144e-05, -0.00012236288, -0.0003231729,...</td>\n",
       "      <td>[0.009117598, 0.0043282993, -0.009037753, -0.0...</td>\n",
       "    </tr>\n",
       "    <tr>\n",
       "      <th>178</th>\n",
       "      <td>/home/fll_data_bata/code/Franloplam/DB Gatos/d...</td>\n",
       "      <td>Isolated in unfamiliar Environment</td>\n",
       "      <td>[0.00044948756, 0.00048497607, 0.00046077766, ...</td>\n",
       "      <td>[-0.003561323, -0.008435549, -0.0015163491, 0....</td>\n",
       "    </tr>\n",
       "    <tr>\n",
       "      <th>273</th>\n",
       "      <td>/home/fll_data_bata/code/Franloplam/DB Gatos/d...</td>\n",
       "      <td>Isolated in unfamiliar Environment</td>\n",
       "      <td>[0.0002934137, 0.00038089894, 0.00044159818, 0...</td>\n",
       "      <td>[-0.0031125313, -0.017972892, 0.0012002862, -0...</td>\n",
       "    </tr>\n",
       "    <tr>\n",
       "      <th>303</th>\n",
       "      <td>/home/fll_data_bata/code/Franloplam/DB Gatos/d...</td>\n",
       "      <td>Isolated in unfamiliar Environment</td>\n",
       "      <td>[0.0008251318, 0.0008761408, 0.0008093907, 0.0...</td>\n",
       "      <td>[0.0039144848, -0.00583968, -0.0018816454, -0....</td>\n",
       "    </tr>\n",
       "  </tbody>\n",
       "</table>\n",
       "</div>"
      ],
      "text/plain": [
       "                                              Emission  \\\n",
       "153  /home/fll_data_bata/code/Franloplam/DB Gatos/d...   \n",
       "244  /home/fll_data_bata/code/Franloplam/DB Gatos/d...   \n",
       "178  /home/fll_data_bata/code/Franloplam/DB Gatos/d...   \n",
       "273  /home/fll_data_bata/code/Franloplam/DB Gatos/d...   \n",
       "303  /home/fll_data_bata/code/Franloplam/DB Gatos/d...   \n",
       "\n",
       "                                  Label  \\\n",
       "153  Isolated in unfamiliar Environment   \n",
       "244  Isolated in unfamiliar Environment   \n",
       "178  Isolated in unfamiliar Environment   \n",
       "273  Isolated in unfamiliar Environment   \n",
       "303  Isolated in unfamiliar Environment   \n",
       "\n",
       "                                           Data Arrays  \\\n",
       "153  [-2.4888912e-05, -1.9440304e-05, -5.703776e-06...   \n",
       "244  [1.5984144e-05, -0.00012236288, -0.0003231729,...   \n",
       "178  [0.00044948756, 0.00048497607, 0.00046077766, ...   \n",
       "273  [0.0002934137, 0.00038089894, 0.00044159818, 0...   \n",
       "303  [0.0008251318, 0.0008761408, 0.0008093907, 0.0...   \n",
       "\n",
       "                                 Augmented_Data_Arrays  \n",
       "153  [-1.4376246e-05, -8.610332e-06, 1.1584468e-05,...  \n",
       "244  [0.009117598, 0.0043282993, -0.009037753, -0.0...  \n",
       "178  [-0.003561323, -0.008435549, -0.0015163491, 0....  \n",
       "273  [-0.0031125313, -0.017972892, 0.0012002862, -0...  \n",
       "303  [0.0039144848, -0.00583968, -0.0018816454, -0....  "
      ]
     },
     "execution_count": 38,
     "metadata": {},
     "output_type": "execute_result"
    }
   ],
   "source": [
    "df.sample(5)"
   ]
  },
  {
   "cell_type": "code",
   "execution_count": 39,
   "id": "064e2ff3",
   "metadata": {},
   "outputs": [],
   "source": [
    "df_augmented = pd.DataFrame({\"Emission\":df[\"Emission\"],\n",
    "               \"Label\":df[\"Label\"],\n",
    "               \"Data Arrays\":df[\"Augmented_Data_Arrays\"],\n",
    "               \"Augmented_Data_Arrays\":\"Null\"    \n",
    "                            })"
   ]
  },
  {
   "cell_type": "code",
   "execution_count": 40,
   "id": "d1ccd246",
   "metadata": {
    "scrolled": true
   },
   "outputs": [
    {
     "data": {
      "text/html": [
       "<div>\n",
       "<style scoped>\n",
       "    .dataframe tbody tr th:only-of-type {\n",
       "        vertical-align: middle;\n",
       "    }\n",
       "\n",
       "    .dataframe tbody tr th {\n",
       "        vertical-align: top;\n",
       "    }\n",
       "\n",
       "    .dataframe thead th {\n",
       "        text-align: right;\n",
       "    }\n",
       "</style>\n",
       "<table border=\"1\" class=\"dataframe\">\n",
       "  <thead>\n",
       "    <tr style=\"text-align: right;\">\n",
       "      <th></th>\n",
       "      <th>Emission</th>\n",
       "      <th>Label</th>\n",
       "      <th>Data Arrays</th>\n",
       "      <th>Augmented_Data_Arrays</th>\n",
       "    </tr>\n",
       "  </thead>\n",
       "  <tbody>\n",
       "    <tr>\n",
       "      <th>129</th>\n",
       "      <td>/home/fll_data_bata/code/Franloplam/DB Gatos/d...</td>\n",
       "      <td>Isolated in unfamiliar Environment</td>\n",
       "      <td>[0.00024265806, 0.0004171921, 0.0037824702, 0....</td>\n",
       "      <td>Null</td>\n",
       "    </tr>\n",
       "    <tr>\n",
       "      <th>343</th>\n",
       "      <td>/home/fll_data_bata/code/Franloplam/DB Gatos/d...</td>\n",
       "      <td>Brushing</td>\n",
       "      <td>[0.00042395576, 0.0005149867, 0.0005869714, 0....</td>\n",
       "      <td>Null</td>\n",
       "    </tr>\n",
       "    <tr>\n",
       "      <th>355</th>\n",
       "      <td>/home/fll_data_bata/code/Franloplam/DB Gatos/d...</td>\n",
       "      <td>Brushing</td>\n",
       "      <td>[0.0021487598, -0.0012900438, 0.00039569486, 0...</td>\n",
       "      <td>Null</td>\n",
       "    </tr>\n",
       "    <tr>\n",
       "      <th>436</th>\n",
       "      <td>/home/fll_data_bata/code/Franloplam/DB Gatos/d...</td>\n",
       "      <td>Brushing</td>\n",
       "      <td>[-0.010619342, 0.007863652, -0.01218214, 0.003...</td>\n",
       "      <td>Null</td>\n",
       "    </tr>\n",
       "    <tr>\n",
       "      <th>204</th>\n",
       "      <td>/home/fll_data_bata/code/Franloplam/DB Gatos/d...</td>\n",
       "      <td>Isolated in unfamiliar Environment</td>\n",
       "      <td>[-0.018706223, 0.010459413, 0.0012683269, 0.00...</td>\n",
       "      <td>Null</td>\n",
       "    </tr>\n",
       "  </tbody>\n",
       "</table>\n",
       "</div>"
      ],
      "text/plain": [
       "                                              Emission  \\\n",
       "129  /home/fll_data_bata/code/Franloplam/DB Gatos/d...   \n",
       "343  /home/fll_data_bata/code/Franloplam/DB Gatos/d...   \n",
       "355  /home/fll_data_bata/code/Franloplam/DB Gatos/d...   \n",
       "436  /home/fll_data_bata/code/Franloplam/DB Gatos/d...   \n",
       "204  /home/fll_data_bata/code/Franloplam/DB Gatos/d...   \n",
       "\n",
       "                                  Label  \\\n",
       "129  Isolated in unfamiliar Environment   \n",
       "343                            Brushing   \n",
       "355                            Brushing   \n",
       "436                            Brushing   \n",
       "204  Isolated in unfamiliar Environment   \n",
       "\n",
       "                                           Data Arrays Augmented_Data_Arrays  \n",
       "129  [0.00024265806, 0.0004171921, 0.0037824702, 0....                  Null  \n",
       "343  [0.00042395576, 0.0005149867, 0.0005869714, 0....                  Null  \n",
       "355  [0.0021487598, -0.0012900438, 0.00039569486, 0...                  Null  \n",
       "436  [-0.010619342, 0.007863652, -0.01218214, 0.003...                  Null  \n",
       "204  [-0.018706223, 0.010459413, 0.0012683269, 0.00...                  Null  "
      ]
     },
     "execution_count": 40,
     "metadata": {},
     "output_type": "execute_result"
    }
   ],
   "source": [
    "df_augmented.sample(5)"
   ]
  },
  {
   "cell_type": "code",
   "execution_count": 160,
   "id": "4bf707a3",
   "metadata": {},
   "outputs": [
    {
     "data": {
      "text/plain": [
       "(97676,)"
      ]
     },
     "execution_count": 160,
     "metadata": {},
     "output_type": "execute_result"
    }
   ],
   "source": [
    "df_augmented[\"Data Arrays\"][0].shape"
   ]
  },
  {
   "cell_type": "code",
   "execution_count": 161,
   "id": "34015d5b",
   "metadata": {},
   "outputs": [
    {
     "data": {
      "text/plain": [
       "(59541,)"
      ]
     },
     "execution_count": 161,
     "metadata": {},
     "output_type": "execute_result"
    }
   ],
   "source": [
    "df_augmented[\"Data Arrays\"][1].shape"
   ]
  },
  {
   "cell_type": "code",
   "execution_count": 162,
   "id": "266bdb0c",
   "metadata": {},
   "outputs": [
    {
     "data": {
      "text/plain": [
       "(72881,)"
      ]
     },
     "execution_count": 162,
     "metadata": {},
     "output_type": "execute_result"
    }
   ],
   "source": [
    "df_augmented[\"Data Arrays\"][2].shape"
   ]
  },
  {
   "cell_type": "code",
   "execution_count": 41,
   "id": "a7fa7835",
   "metadata": {},
   "outputs": [],
   "source": [
    "df_concat = pd.concat([df,df_augmented],ignore_index=True)"
   ]
  },
  {
   "cell_type": "code",
   "execution_count": 42,
   "id": "f110f4f1",
   "metadata": {},
   "outputs": [],
   "source": [
    "df_concat.drop(\"Augmented_Data_Arrays\",axis=1,inplace=True)"
   ]
  },
  {
   "cell_type": "code",
   "execution_count": 43,
   "id": "fc51012a",
   "metadata": {},
   "outputs": [
    {
     "data": {
      "text/html": [
       "<div>\n",
       "<style scoped>\n",
       "    .dataframe tbody tr th:only-of-type {\n",
       "        vertical-align: middle;\n",
       "    }\n",
       "\n",
       "    .dataframe tbody tr th {\n",
       "        vertical-align: top;\n",
       "    }\n",
       "\n",
       "    .dataframe thead th {\n",
       "        text-align: right;\n",
       "    }\n",
       "</style>\n",
       "<table border=\"1\" class=\"dataframe\">\n",
       "  <thead>\n",
       "    <tr style=\"text-align: right;\">\n",
       "      <th></th>\n",
       "      <th>Emission</th>\n",
       "      <th>Label</th>\n",
       "      <th>Data Arrays</th>\n",
       "    </tr>\n",
       "  </thead>\n",
       "  <tbody>\n",
       "    <tr>\n",
       "      <th>0</th>\n",
       "      <td>/home/fll_data_bata/code/Franloplam/DB Gatos/d...</td>\n",
       "      <td>Waiting For Food</td>\n",
       "      <td>[0.0002239049, 0.00023594295, 0.00021665035, 0...</td>\n",
       "    </tr>\n",
       "    <tr>\n",
       "      <th>1</th>\n",
       "      <td>/home/fll_data_bata/code/Franloplam/DB Gatos/d...</td>\n",
       "      <td>Waiting For Food</td>\n",
       "      <td>[-0.00069664646, -0.0008256097, -0.00088931294...</td>\n",
       "    </tr>\n",
       "    <tr>\n",
       "      <th>2</th>\n",
       "      <td>/home/fll_data_bata/code/Franloplam/DB Gatos/d...</td>\n",
       "      <td>Waiting For Food</td>\n",
       "      <td>[-8.342523e-05, -0.0001941619, -0.0003314932, ...</td>\n",
       "    </tr>\n",
       "    <tr>\n",
       "      <th>3</th>\n",
       "      <td>/home/fll_data_bata/code/Franloplam/DB Gatos/d...</td>\n",
       "      <td>Waiting For Food</td>\n",
       "      <td>[0.00086286897, 0.0010409814, 0.0011363981, 0....</td>\n",
       "    </tr>\n",
       "    <tr>\n",
       "      <th>4</th>\n",
       "      <td>/home/fll_data_bata/code/Franloplam/DB Gatos/d...</td>\n",
       "      <td>Waiting For Food</td>\n",
       "      <td>[-0.00031048656, -0.00038651936, -0.0004299918...</td>\n",
       "    </tr>\n",
       "    <tr>\n",
       "      <th>...</th>\n",
       "      <td>...</td>\n",
       "      <td>...</td>\n",
       "      <td>...</td>\n",
       "    </tr>\n",
       "    <tr>\n",
       "      <th>875</th>\n",
       "      <td>/home/fll_data_bata/code/Franloplam/DB Gatos/d...</td>\n",
       "      <td>Brushing</td>\n",
       "      <td>[0.00011288561, 6.496918e-05, -1.901525e-05, -...</td>\n",
       "    </tr>\n",
       "    <tr>\n",
       "      <th>876</th>\n",
       "      <td>/home/fll_data_bata/code/Franloplam/DB Gatos/d...</td>\n",
       "      <td>Brushing</td>\n",
       "      <td>[-0.010619342, 0.007863652, -0.01218214, 0.003...</td>\n",
       "    </tr>\n",
       "    <tr>\n",
       "      <th>877</th>\n",
       "      <td>/home/fll_data_bata/code/Franloplam/DB Gatos/d...</td>\n",
       "      <td>Brushing</td>\n",
       "      <td>[0.0005179582, 0.0006139756, 0.0006456704, 0.0...</td>\n",
       "    </tr>\n",
       "    <tr>\n",
       "      <th>878</th>\n",
       "      <td>/home/fll_data_bata/code/Franloplam/DB Gatos/d...</td>\n",
       "      <td>Brushing</td>\n",
       "      <td>[0.0019407158, -0.0027761725, 0.008080474, 0.0...</td>\n",
       "    </tr>\n",
       "    <tr>\n",
       "      <th>879</th>\n",
       "      <td>/home/fll_data_bata/code/Franloplam/DB Gatos/d...</td>\n",
       "      <td>Brushing</td>\n",
       "      <td>[0.00015339331, 0.00015985486, 0.00012487276, ...</td>\n",
       "    </tr>\n",
       "  </tbody>\n",
       "</table>\n",
       "<p>880 rows × 3 columns</p>\n",
       "</div>"
      ],
      "text/plain": [
       "                                              Emission             Label  \\\n",
       "0    /home/fll_data_bata/code/Franloplam/DB Gatos/d...  Waiting For Food   \n",
       "1    /home/fll_data_bata/code/Franloplam/DB Gatos/d...  Waiting For Food   \n",
       "2    /home/fll_data_bata/code/Franloplam/DB Gatos/d...  Waiting For Food   \n",
       "3    /home/fll_data_bata/code/Franloplam/DB Gatos/d...  Waiting For Food   \n",
       "4    /home/fll_data_bata/code/Franloplam/DB Gatos/d...  Waiting For Food   \n",
       "..                                                 ...               ...   \n",
       "875  /home/fll_data_bata/code/Franloplam/DB Gatos/d...          Brushing   \n",
       "876  /home/fll_data_bata/code/Franloplam/DB Gatos/d...          Brushing   \n",
       "877  /home/fll_data_bata/code/Franloplam/DB Gatos/d...          Brushing   \n",
       "878  /home/fll_data_bata/code/Franloplam/DB Gatos/d...          Brushing   \n",
       "879  /home/fll_data_bata/code/Franloplam/DB Gatos/d...          Brushing   \n",
       "\n",
       "                                           Data Arrays  \n",
       "0    [0.0002239049, 0.00023594295, 0.00021665035, 0...  \n",
       "1    [-0.00069664646, -0.0008256097, -0.00088931294...  \n",
       "2    [-8.342523e-05, -0.0001941619, -0.0003314932, ...  \n",
       "3    [0.00086286897, 0.0010409814, 0.0011363981, 0....  \n",
       "4    [-0.00031048656, -0.00038651936, -0.0004299918...  \n",
       "..                                                 ...  \n",
       "875  [0.00011288561, 6.496918e-05, -1.901525e-05, -...  \n",
       "876  [-0.010619342, 0.007863652, -0.01218214, 0.003...  \n",
       "877  [0.0005179582, 0.0006139756, 0.0006456704, 0.0...  \n",
       "878  [0.0019407158, -0.0027761725, 0.008080474, 0.0...  \n",
       "879  [0.00015339331, 0.00015985486, 0.00012487276, ...  \n",
       "\n",
       "[880 rows x 3 columns]"
      ]
     },
     "execution_count": 43,
     "metadata": {},
     "output_type": "execute_result"
    }
   ],
   "source": [
    "df_concat"
   ]
  },
  {
   "cell_type": "code",
   "execution_count": 44,
   "id": "052d4175",
   "metadata": {},
   "outputs": [],
   "source": [
    "augmented_audio_list_2 = []\n",
    "\n",
    "for audio_array in df_concat['Data Arrays']:\n",
    "    augmented_audio = augmenter(samples=audio_array, sample_rate=44100)\n",
    "    augmented_audio_list_2.append(augmented_audio)"
   ]
  },
  {
   "cell_type": "code",
   "execution_count": 45,
   "id": "876235e2",
   "metadata": {},
   "outputs": [
    {
     "data": {
      "text/plain": [
       "880"
      ]
     },
     "execution_count": 45,
     "metadata": {},
     "output_type": "execute_result"
    }
   ],
   "source": [
    "len(augmented_audio_list_2)"
   ]
  },
  {
   "cell_type": "code",
   "execution_count": 46,
   "id": "78a9e2e8",
   "metadata": {},
   "outputs": [],
   "source": [
    "df_concat['Augmented_Data_Arrays'] = augmented_audio_list_2"
   ]
  },
  {
   "cell_type": "code",
   "execution_count": 48,
   "id": "1e3d7319",
   "metadata": {},
   "outputs": [
    {
     "data": {
      "text/html": [
       "<div>\n",
       "<style scoped>\n",
       "    .dataframe tbody tr th:only-of-type {\n",
       "        vertical-align: middle;\n",
       "    }\n",
       "\n",
       "    .dataframe tbody tr th {\n",
       "        vertical-align: top;\n",
       "    }\n",
       "\n",
       "    .dataframe thead th {\n",
       "        text-align: right;\n",
       "    }\n",
       "</style>\n",
       "<table border=\"1\" class=\"dataframe\">\n",
       "  <thead>\n",
       "    <tr style=\"text-align: right;\">\n",
       "      <th></th>\n",
       "      <th>Emission</th>\n",
       "      <th>Label</th>\n",
       "      <th>Data Arrays</th>\n",
       "      <th>Augmented_Data_Arrays</th>\n",
       "    </tr>\n",
       "  </thead>\n",
       "  <tbody>\n",
       "    <tr>\n",
       "      <th>289</th>\n",
       "      <td>/home/fll_data_bata/code/Franloplam/DB Gatos/d...</td>\n",
       "      <td>Isolated in unfamiliar Environment</td>\n",
       "      <td>[0.00012831877, 0.00014669762, 0.00014566019, ...</td>\n",
       "      <td>[0.0009382345, -0.0010753274, -0.00039739945, ...</td>\n",
       "    </tr>\n",
       "    <tr>\n",
       "      <th>478</th>\n",
       "      <td>/home/fll_data_bata/code/Franloplam/DB Gatos/d...</td>\n",
       "      <td>Waiting For Food</td>\n",
       "      <td>[7.922792e-05, 6.997954e-05, 5.2059066e-05, 3....</td>\n",
       "      <td>[8.665621e-05, 9.323472e-05, 7.139538e-05, 6.9...</td>\n",
       "    </tr>\n",
       "    <tr>\n",
       "      <th>366</th>\n",
       "      <td>/home/fll_data_bata/code/Franloplam/DB Gatos/d...</td>\n",
       "      <td>Brushing</td>\n",
       "      <td>[-0.00029861543, -0.00034772768, -0.0003699496...</td>\n",
       "      <td>[0.011691936, 0.0122347325, 0.005524034, -0.01...</td>\n",
       "    </tr>\n",
       "    <tr>\n",
       "      <th>103</th>\n",
       "      <td>/home/fll_data_bata/code/Franloplam/DB Gatos/d...</td>\n",
       "      <td>Isolated in unfamiliar Environment</td>\n",
       "      <td>[3.6816346e-09, 1.4137186e-07, 2.8485374e-07, ...</td>\n",
       "      <td>[0.009446058, 0.0060182014, -0.008716475, 0.01...</td>\n",
       "    </tr>\n",
       "    <tr>\n",
       "      <th>474</th>\n",
       "      <td>/home/fll_data_bata/code/Franloplam/DB Gatos/d...</td>\n",
       "      <td>Waiting For Food</td>\n",
       "      <td>[-0.0034723403, 0.008273067, -0.029751526, 0.0...</td>\n",
       "      <td>[-0.023757018, 0.018627577, -0.03658388, 0.018...</td>\n",
       "    </tr>\n",
       "  </tbody>\n",
       "</table>\n",
       "</div>"
      ],
      "text/plain": [
       "                                              Emission  \\\n",
       "289  /home/fll_data_bata/code/Franloplam/DB Gatos/d...   \n",
       "478  /home/fll_data_bata/code/Franloplam/DB Gatos/d...   \n",
       "366  /home/fll_data_bata/code/Franloplam/DB Gatos/d...   \n",
       "103  /home/fll_data_bata/code/Franloplam/DB Gatos/d...   \n",
       "474  /home/fll_data_bata/code/Franloplam/DB Gatos/d...   \n",
       "\n",
       "                                  Label  \\\n",
       "289  Isolated in unfamiliar Environment   \n",
       "478                    Waiting For Food   \n",
       "366                            Brushing   \n",
       "103  Isolated in unfamiliar Environment   \n",
       "474                    Waiting For Food   \n",
       "\n",
       "                                           Data Arrays  \\\n",
       "289  [0.00012831877, 0.00014669762, 0.00014566019, ...   \n",
       "478  [7.922792e-05, 6.997954e-05, 5.2059066e-05, 3....   \n",
       "366  [-0.00029861543, -0.00034772768, -0.0003699496...   \n",
       "103  [3.6816346e-09, 1.4137186e-07, 2.8485374e-07, ...   \n",
       "474  [-0.0034723403, 0.008273067, -0.029751526, 0.0...   \n",
       "\n",
       "                                 Augmented_Data_Arrays  \n",
       "289  [0.0009382345, -0.0010753274, -0.00039739945, ...  \n",
       "478  [8.665621e-05, 9.323472e-05, 7.139538e-05, 6.9...  \n",
       "366  [0.011691936, 0.0122347325, 0.005524034, -0.01...  \n",
       "103  [0.009446058, 0.0060182014, -0.008716475, 0.01...  \n",
       "474  [-0.023757018, 0.018627577, -0.03658388, 0.018...  "
      ]
     },
     "execution_count": 48,
     "metadata": {},
     "output_type": "execute_result"
    }
   ],
   "source": [
    "df_concat.sample(5)"
   ]
  },
  {
   "cell_type": "code",
   "execution_count": 49,
   "id": "3d8c756b",
   "metadata": {},
   "outputs": [],
   "source": [
    "df_augmented_2 = pd.DataFrame({\"Emission\":df_concat[\"Emission\"],\n",
    "               \"Label\":df_concat[\"Label\"],\n",
    "               \"Data Arrays\":df_concat[\"Augmented_Data_Arrays\"],\n",
    "               \"Augmented_Data_Arrays\":\"Null\"    \n",
    "                            })"
   ]
  },
  {
   "cell_type": "code",
   "execution_count": 51,
   "id": "0086a74e",
   "metadata": {},
   "outputs": [
    {
     "data": {
      "text/html": [
       "<div>\n",
       "<style scoped>\n",
       "    .dataframe tbody tr th:only-of-type {\n",
       "        vertical-align: middle;\n",
       "    }\n",
       "\n",
       "    .dataframe tbody tr th {\n",
       "        vertical-align: top;\n",
       "    }\n",
       "\n",
       "    .dataframe thead th {\n",
       "        text-align: right;\n",
       "    }\n",
       "</style>\n",
       "<table border=\"1\" class=\"dataframe\">\n",
       "  <thead>\n",
       "    <tr style=\"text-align: right;\">\n",
       "      <th></th>\n",
       "      <th>Emission</th>\n",
       "      <th>Label</th>\n",
       "      <th>Data Arrays</th>\n",
       "      <th>Augmented_Data_Arrays</th>\n",
       "    </tr>\n",
       "  </thead>\n",
       "  <tbody>\n",
       "    <tr>\n",
       "      <th>223</th>\n",
       "      <td>/home/fll_data_bata/code/Franloplam/DB Gatos/d...</td>\n",
       "      <td>Isolated in unfamiliar Environment</td>\n",
       "      <td>[-0.009725922, 0.0043277484, -0.0031538259, -0...</td>\n",
       "      <td>Null</td>\n",
       "    </tr>\n",
       "    <tr>\n",
       "      <th>813</th>\n",
       "      <td>/home/fll_data_bata/code/Franloplam/DB Gatos/d...</td>\n",
       "      <td>Brushing</td>\n",
       "      <td>[-0.0006698904, 0.006969424, -0.0078094965, 0....</td>\n",
       "      <td>Null</td>\n",
       "    </tr>\n",
       "    <tr>\n",
       "      <th>174</th>\n",
       "      <td>/home/fll_data_bata/code/Franloplam/DB Gatos/d...</td>\n",
       "      <td>Isolated in unfamiliar Environment</td>\n",
       "      <td>[3.162725e-05, 5.8577396e-05, 7.888302e-05, 7....</td>\n",
       "      <td>Null</td>\n",
       "    </tr>\n",
       "    <tr>\n",
       "      <th>144</th>\n",
       "      <td>/home/fll_data_bata/code/Franloplam/DB Gatos/d...</td>\n",
       "      <td>Isolated in unfamiliar Environment</td>\n",
       "      <td>[0.0002753577, 0.00027501344, 0.0002283683, 0....</td>\n",
       "      <td>Null</td>\n",
       "    </tr>\n",
       "  </tbody>\n",
       "</table>\n",
       "</div>"
      ],
      "text/plain": [
       "                                              Emission  \\\n",
       "223  /home/fll_data_bata/code/Franloplam/DB Gatos/d...   \n",
       "813  /home/fll_data_bata/code/Franloplam/DB Gatos/d...   \n",
       "174  /home/fll_data_bata/code/Franloplam/DB Gatos/d...   \n",
       "144  /home/fll_data_bata/code/Franloplam/DB Gatos/d...   \n",
       "\n",
       "                                  Label  \\\n",
       "223  Isolated in unfamiliar Environment   \n",
       "813                            Brushing   \n",
       "174  Isolated in unfamiliar Environment   \n",
       "144  Isolated in unfamiliar Environment   \n",
       "\n",
       "                                           Data Arrays Augmented_Data_Arrays  \n",
       "223  [-0.009725922, 0.0043277484, -0.0031538259, -0...                  Null  \n",
       "813  [-0.0006698904, 0.006969424, -0.0078094965, 0....                  Null  \n",
       "174  [3.162725e-05, 5.8577396e-05, 7.888302e-05, 7....                  Null  \n",
       "144  [0.0002753577, 0.00027501344, 0.0002283683, 0....                  Null  "
      ]
     },
     "execution_count": 51,
     "metadata": {},
     "output_type": "execute_result"
    }
   ],
   "source": [
    "df_augmented_2.sample(4)"
   ]
  },
  {
   "cell_type": "code",
   "execution_count": 52,
   "id": "0d0f2493",
   "metadata": {},
   "outputs": [],
   "source": [
    "df_concat_OK = pd.concat([df_concat,df_augmented_2],ignore_index=True)"
   ]
  },
  {
   "cell_type": "code",
   "execution_count": 54,
   "id": "ba36055c",
   "metadata": {},
   "outputs": [
    {
     "data": {
      "text/html": [
       "<div>\n",
       "<style scoped>\n",
       "    .dataframe tbody tr th:only-of-type {\n",
       "        vertical-align: middle;\n",
       "    }\n",
       "\n",
       "    .dataframe tbody tr th {\n",
       "        vertical-align: top;\n",
       "    }\n",
       "\n",
       "    .dataframe thead th {\n",
       "        text-align: right;\n",
       "    }\n",
       "</style>\n",
       "<table border=\"1\" class=\"dataframe\">\n",
       "  <thead>\n",
       "    <tr style=\"text-align: right;\">\n",
       "      <th></th>\n",
       "      <th>Emission</th>\n",
       "      <th>Label</th>\n",
       "      <th>Data Arrays</th>\n",
       "      <th>Augmented_Data_Arrays</th>\n",
       "    </tr>\n",
       "  </thead>\n",
       "  <tbody>\n",
       "    <tr>\n",
       "      <th>672</th>\n",
       "      <td>/home/fll_data_bata/code/Franloplam/DB Gatos/d...</td>\n",
       "      <td>Isolated in unfamiliar Environment</td>\n",
       "      <td>[0.005443086, 0.010518982, 0.032472987, -0.007...</td>\n",
       "      <td>[-0.0044233305, 0.02414025, 0.015359914, -0.01...</td>\n",
       "    </tr>\n",
       "    <tr>\n",
       "      <th>1447</th>\n",
       "      <td>/home/fll_data_bata/code/Franloplam/DB Gatos/d...</td>\n",
       "      <td>Isolated in unfamiliar Environment</td>\n",
       "      <td>[0.0072097494, -0.00551568, 0.002049116, -0.00...</td>\n",
       "      <td>Null</td>\n",
       "    </tr>\n",
       "    <tr>\n",
       "      <th>76</th>\n",
       "      <td>/home/fll_data_bata/code/Franloplam/DB Gatos/d...</td>\n",
       "      <td>Waiting For Food</td>\n",
       "      <td>[3.723838e-05, -0.000102597434, -0.00026516203...</td>\n",
       "      <td>[2.504384e-05, -0.00012843027, -0.0003205756, ...</td>\n",
       "    </tr>\n",
       "    <tr>\n",
       "      <th>611</th>\n",
       "      <td>/home/fll_data_bata/code/Franloplam/DB Gatos/d...</td>\n",
       "      <td>Isolated in unfamiliar Environment</td>\n",
       "      <td>[-0.0031764153, 0.0034693275, 0.0011112066, -0...</td>\n",
       "      <td>[0.015632736, 0.007991535, 0.020945627, -0.018...</td>\n",
       "    </tr>\n",
       "    <tr>\n",
       "      <th>127</th>\n",
       "      <td>/home/fll_data_bata/code/Franloplam/DB Gatos/d...</td>\n",
       "      <td>Isolated in unfamiliar Environment</td>\n",
       "      <td>[0.0001623777, 0.00025712565, 0.00036424515, 0...</td>\n",
       "      <td>[-0.012339027, 0.0028266683, -0.016884983, -0....</td>\n",
       "    </tr>\n",
       "  </tbody>\n",
       "</table>\n",
       "</div>"
      ],
      "text/plain": [
       "                                               Emission  \\\n",
       "672   /home/fll_data_bata/code/Franloplam/DB Gatos/d...   \n",
       "1447  /home/fll_data_bata/code/Franloplam/DB Gatos/d...   \n",
       "76    /home/fll_data_bata/code/Franloplam/DB Gatos/d...   \n",
       "611   /home/fll_data_bata/code/Franloplam/DB Gatos/d...   \n",
       "127   /home/fll_data_bata/code/Franloplam/DB Gatos/d...   \n",
       "\n",
       "                                   Label  \\\n",
       "672   Isolated in unfamiliar Environment   \n",
       "1447  Isolated in unfamiliar Environment   \n",
       "76                      Waiting For Food   \n",
       "611   Isolated in unfamiliar Environment   \n",
       "127   Isolated in unfamiliar Environment   \n",
       "\n",
       "                                            Data Arrays  \\\n",
       "672   [0.005443086, 0.010518982, 0.032472987, -0.007...   \n",
       "1447  [0.0072097494, -0.00551568, 0.002049116, -0.00...   \n",
       "76    [3.723838e-05, -0.000102597434, -0.00026516203...   \n",
       "611   [-0.0031764153, 0.0034693275, 0.0011112066, -0...   \n",
       "127   [0.0001623777, 0.00025712565, 0.00036424515, 0...   \n",
       "\n",
       "                                  Augmented_Data_Arrays  \n",
       "672   [-0.0044233305, 0.02414025, 0.015359914, -0.01...  \n",
       "1447                                               Null  \n",
       "76    [2.504384e-05, -0.00012843027, -0.0003205756, ...  \n",
       "611   [0.015632736, 0.007991535, 0.020945627, -0.018...  \n",
       "127   [-0.012339027, 0.0028266683, -0.016884983, -0....  "
      ]
     },
     "execution_count": 54,
     "metadata": {},
     "output_type": "execute_result"
    }
   ],
   "source": [
    "df_concat_OK.sample(5)"
   ]
  },
  {
   "cell_type": "code",
   "execution_count": 55,
   "id": "b90bef04",
   "metadata": {},
   "outputs": [],
   "source": [
    "df_concat_OK.drop(\"Augmented_Data_Arrays\",axis=1,inplace=True)"
   ]
  },
  {
   "cell_type": "markdown",
   "id": "d2a491c6",
   "metadata": {},
   "source": [
    "# DATA FRAME DEFINITIVO"
   ]
  },
  {
   "cell_type": "code",
   "execution_count": 57,
   "id": "e04a4418",
   "metadata": {
    "scrolled": false
   },
   "outputs": [
    {
     "data": {
      "text/html": [
       "<div>\n",
       "<style scoped>\n",
       "    .dataframe tbody tr th:only-of-type {\n",
       "        vertical-align: middle;\n",
       "    }\n",
       "\n",
       "    .dataframe tbody tr th {\n",
       "        vertical-align: top;\n",
       "    }\n",
       "\n",
       "    .dataframe thead th {\n",
       "        text-align: right;\n",
       "    }\n",
       "</style>\n",
       "<table border=\"1\" class=\"dataframe\">\n",
       "  <thead>\n",
       "    <tr style=\"text-align: right;\">\n",
       "      <th></th>\n",
       "      <th>Emission</th>\n",
       "      <th>Label</th>\n",
       "      <th>Data Arrays</th>\n",
       "    </tr>\n",
       "  </thead>\n",
       "  <tbody>\n",
       "    <tr>\n",
       "      <th>0</th>\n",
       "      <td>/home/fll_data_bata/code/Franloplam/DB Gatos/d...</td>\n",
       "      <td>Waiting For Food</td>\n",
       "      <td>[0.0002239049, 0.00023594295, 0.00021665035, 0...</td>\n",
       "    </tr>\n",
       "    <tr>\n",
       "      <th>1</th>\n",
       "      <td>/home/fll_data_bata/code/Franloplam/DB Gatos/d...</td>\n",
       "      <td>Waiting For Food</td>\n",
       "      <td>[-0.00069664646, -0.0008256097, -0.00088931294...</td>\n",
       "    </tr>\n",
       "    <tr>\n",
       "      <th>2</th>\n",
       "      <td>/home/fll_data_bata/code/Franloplam/DB Gatos/d...</td>\n",
       "      <td>Waiting For Food</td>\n",
       "      <td>[-8.342523e-05, -0.0001941619, -0.0003314932, ...</td>\n",
       "    </tr>\n",
       "    <tr>\n",
       "      <th>3</th>\n",
       "      <td>/home/fll_data_bata/code/Franloplam/DB Gatos/d...</td>\n",
       "      <td>Waiting For Food</td>\n",
       "      <td>[0.00086286897, 0.0010409814, 0.0011363981, 0....</td>\n",
       "    </tr>\n",
       "    <tr>\n",
       "      <th>4</th>\n",
       "      <td>/home/fll_data_bata/code/Franloplam/DB Gatos/d...</td>\n",
       "      <td>Waiting For Food</td>\n",
       "      <td>[-0.00031048656, -0.00038651936, -0.0004299918...</td>\n",
       "    </tr>\n",
       "    <tr>\n",
       "      <th>...</th>\n",
       "      <td>...</td>\n",
       "      <td>...</td>\n",
       "      <td>...</td>\n",
       "    </tr>\n",
       "    <tr>\n",
       "      <th>1755</th>\n",
       "      <td>/home/fll_data_bata/code/Franloplam/DB Gatos/d...</td>\n",
       "      <td>Brushing</td>\n",
       "      <td>[0.0047804974, -0.018314073, -0.00515688, 0.00...</td>\n",
       "    </tr>\n",
       "    <tr>\n",
       "      <th>1756</th>\n",
       "      <td>/home/fll_data_bata/code/Franloplam/DB Gatos/d...</td>\n",
       "      <td>Brushing</td>\n",
       "      <td>[-0.013197416, 0.001557344, -0.016248384, -0.0...</td>\n",
       "    </tr>\n",
       "    <tr>\n",
       "      <th>1757</th>\n",
       "      <td>/home/fll_data_bata/code/Franloplam/DB Gatos/d...</td>\n",
       "      <td>Brushing</td>\n",
       "      <td>[0.00047742968, 0.0006314735, 0.0006330451, 0....</td>\n",
       "    </tr>\n",
       "    <tr>\n",
       "      <th>1758</th>\n",
       "      <td>/home/fll_data_bata/code/Franloplam/DB Gatos/d...</td>\n",
       "      <td>Brushing</td>\n",
       "      <td>[0.0035234492, 0.0021412014, 0.011476568, -0.0...</td>\n",
       "    </tr>\n",
       "    <tr>\n",
       "      <th>1759</th>\n",
       "      <td>/home/fll_data_bata/code/Franloplam/DB Gatos/d...</td>\n",
       "      <td>Brushing</td>\n",
       "      <td>[-0.0065369266, -0.023777068, 0.0010801886, 0....</td>\n",
       "    </tr>\n",
       "  </tbody>\n",
       "</table>\n",
       "<p>1760 rows × 3 columns</p>\n",
       "</div>"
      ],
      "text/plain": [
       "                                               Emission             Label  \\\n",
       "0     /home/fll_data_bata/code/Franloplam/DB Gatos/d...  Waiting For Food   \n",
       "1     /home/fll_data_bata/code/Franloplam/DB Gatos/d...  Waiting For Food   \n",
       "2     /home/fll_data_bata/code/Franloplam/DB Gatos/d...  Waiting For Food   \n",
       "3     /home/fll_data_bata/code/Franloplam/DB Gatos/d...  Waiting For Food   \n",
       "4     /home/fll_data_bata/code/Franloplam/DB Gatos/d...  Waiting For Food   \n",
       "...                                                 ...               ...   \n",
       "1755  /home/fll_data_bata/code/Franloplam/DB Gatos/d...          Brushing   \n",
       "1756  /home/fll_data_bata/code/Franloplam/DB Gatos/d...          Brushing   \n",
       "1757  /home/fll_data_bata/code/Franloplam/DB Gatos/d...          Brushing   \n",
       "1758  /home/fll_data_bata/code/Franloplam/DB Gatos/d...          Brushing   \n",
       "1759  /home/fll_data_bata/code/Franloplam/DB Gatos/d...          Brushing   \n",
       "\n",
       "                                            Data Arrays  \n",
       "0     [0.0002239049, 0.00023594295, 0.00021665035, 0...  \n",
       "1     [-0.00069664646, -0.0008256097, -0.00088931294...  \n",
       "2     [-8.342523e-05, -0.0001941619, -0.0003314932, ...  \n",
       "3     [0.00086286897, 0.0010409814, 0.0011363981, 0....  \n",
       "4     [-0.00031048656, -0.00038651936, -0.0004299918...  \n",
       "...                                                 ...  \n",
       "1755  [0.0047804974, -0.018314073, -0.00515688, 0.00...  \n",
       "1756  [-0.013197416, 0.001557344, -0.016248384, -0.0...  \n",
       "1757  [0.00047742968, 0.0006314735, 0.0006330451, 0....  \n",
       "1758  [0.0035234492, 0.0021412014, 0.011476568, -0.0...  \n",
       "1759  [-0.0065369266, -0.023777068, 0.0010801886, 0....  \n",
       "\n",
       "[1760 rows x 3 columns]"
      ]
     },
     "execution_count": 57,
     "metadata": {},
     "output_type": "execute_result"
    }
   ],
   "source": [
    "df_concat_OK"
   ]
  },
  {
   "cell_type": "code",
   "execution_count": 163,
   "id": "f67092bb",
   "metadata": {},
   "outputs": [
    {
     "data": {
      "text/plain": [
       "(97676,)"
      ]
     },
     "execution_count": 163,
     "metadata": {},
     "output_type": "execute_result"
    }
   ],
   "source": [
    "df_concat_OK[\"Data Arrays\"][0].shape"
   ]
  },
  {
   "cell_type": "code",
   "execution_count": 164,
   "id": "0c0256ab",
   "metadata": {},
   "outputs": [
    {
     "data": {
      "text/plain": [
       "(59541,)"
      ]
     },
     "execution_count": 164,
     "metadata": {},
     "output_type": "execute_result"
    }
   ],
   "source": [
    "df_concat_OK[\"Data Arrays\"][1].shape"
   ]
  },
  {
   "cell_type": "code",
   "execution_count": 165,
   "id": "6f8d4132",
   "metadata": {},
   "outputs": [
    {
     "data": {
      "text/plain": [
       "(72881,)"
      ]
     },
     "execution_count": 165,
     "metadata": {},
     "output_type": "execute_result"
    }
   ],
   "source": [
    "df_concat_OK[\"Data Arrays\"][2].shape"
   ]
  },
  {
   "cell_type": "markdown",
   "id": "53fdb883",
   "metadata": {},
   "source": [
    "# Extracting Features"
   ]
  },
  {
   "cell_type": "markdown",
   "id": "8d35b2a0",
   "metadata": {},
   "source": [
    "## Extract"
   ]
  },
  {
   "cell_type": "markdown",
   "id": "a6bd6461",
   "metadata": {},
   "source": [
    "### Food "
   ]
  },
  {
   "cell_type": "code",
   "execution_count": 58,
   "id": "a7cbb117",
   "metadata": {},
   "outputs": [],
   "source": [
    "def extract_features(data):\n",
    "    # ZCR\n",
    "    result = np.array([])\n",
    "    zcr = np.mean(librosa.feature.zero_crossing_rate(y=data).T, axis=0)\n",
    "    result=np.hstack((result, zcr)) # stacking horizontally\n",
    "\n",
    "    # Chroma_stft\n",
    "    stft = np.abs(librosa.stft(data))\n",
    "    chroma_stft = np.mean(librosa.feature.chroma_stft(S=stft, sr=sample_rate_F).T, axis=0)\n",
    "    result = np.hstack((result, chroma_stft)) # stacking horizontally\n",
    "\n",
    "    # MFCC\n",
    "    mfcc = np.mean(librosa.feature.mfcc(y=data, sr=sample_rate_F).T, axis=0)\n",
    "    result = np.hstack((result, mfcc)) # stacking horizontally\n",
    "\n",
    "    # Root Mean Square Value\n",
    "    rms = np.mean(librosa.feature.rms(y=data).T, axis=0)\n",
    "    result = np.hstack((result, rms)) # stacking horizontally\n",
    "\n",
    "    # MelSpectogram\n",
    "    mel = np.mean(librosa.feature.melspectrogram(y=data, sr=sample_rate_F).T, axis=0)\n",
    "    result = np.hstack((result, mel)) # stacking horizontally\n",
    "    \n",
    "    return result"
   ]
  },
  {
   "cell_type": "markdown",
   "id": "d1505c12",
   "metadata": {},
   "source": [
    "### Isolated "
   ]
  },
  {
   "cell_type": "code",
   "execution_count": 59,
   "id": "1176cc2e",
   "metadata": {},
   "outputs": [],
   "source": [
    "def extract_features(data):\n",
    "    # ZCR\n",
    "    result = np.array([])\n",
    "    zcr = np.mean(librosa.feature.zero_crossing_rate(y=data).T, axis=0)\n",
    "    result=np.hstack((result, zcr)) # stacking horizontally\n",
    "\n",
    "    # Chroma_stft\n",
    "    stft = np.abs(librosa.stft(data))\n",
    "    chroma_stft = np.mean(librosa.feature.chroma_stft(S=stft, sr=sample_rate_I).T, axis=0)\n",
    "    result = np.hstack((result, chroma_stft)) # stacking horizontally\n",
    "\n",
    "    # MFCC\n",
    "    mfcc = np.mean(librosa.feature.mfcc(y=data, sr=sample_rate_I).T, axis=0)\n",
    "    result = np.hstack((result, mfcc)) # stacking horizontally\n",
    "\n",
    "    # Root Mean Square Value\n",
    "    rms = np.mean(librosa.feature.rms(y=data).T, axis=0)\n",
    "    result = np.hstack((result, rms)) # stacking horizontally\n",
    "\n",
    "    # MelSpectogram\n",
    "    mel = np.mean(librosa.feature.melspectrogram(y=data, sr=sample_rate_I).T, axis=0)\n",
    "    result = np.hstack((result, mel)) # stacking horizontally\n",
    "    \n",
    "    return result"
   ]
  },
  {
   "cell_type": "markdown",
   "id": "e54e7763",
   "metadata": {},
   "source": [
    "### Brushing"
   ]
  },
  {
   "cell_type": "code",
   "execution_count": 60,
   "id": "0842046f",
   "metadata": {},
   "outputs": [],
   "source": [
    "def extract_features(data):\n",
    "    # ZCR\n",
    "    result = np.array([])\n",
    "    zcr = np.mean(librosa.feature.zero_crossing_rate(y=data).T, axis=0)\n",
    "    result=np.hstack((result, zcr)) # stacking horizontally\n",
    "\n",
    "    # Chroma_stft\n",
    "    stft = np.abs(librosa.stft(data))\n",
    "    chroma_stft = np.mean(librosa.feature.chroma_stft(S=stft, sr=sample_rate_B).T, axis=0)\n",
    "    result = np.hstack((result, chroma_stft)) # stacking horizontally\n",
    "\n",
    "    # MFCC\n",
    "    mfcc = np.mean(librosa.feature.mfcc(y=data, sr=sample_rate_B).T, axis=0)\n",
    "    result = np.hstack((result, mfcc)) # stacking horizontally\n",
    "\n",
    "    # Root Mean Square Value\n",
    "    rms = np.mean(librosa.feature.rms(y=data).T, axis=0)\n",
    "    result = np.hstack((result, rms)) # stacking horizontally\n",
    "\n",
    "    # MelSpectogram\n",
    "    mel = np.mean(librosa.feature.melspectrogram(y=data, sr=sample_rate_B).T, axis=0)\n",
    "    result = np.hstack((result, mel)) # stacking horizontally\n",
    "    \n",
    "    return result"
   ]
  },
  {
   "cell_type": "markdown",
   "id": "d7d8e432",
   "metadata": {},
   "source": [
    "## Get"
   ]
  },
  {
   "cell_type": "code",
   "execution_count": 61,
   "id": "702cb277",
   "metadata": {},
   "outputs": [],
   "source": [
    "def get_features(path):\n",
    "    # duration and offset are used to take care of the no audio in start and the ending of each audio files as seen above.\n",
    "    data, sample_rate = librosa.load(path, duration=2.5, offset=0.6)\n",
    "    \n",
    "    # without augmentation\n",
    "    res1 = extract_features(data)\n",
    "    result = np.array(res1)\n",
    "    \n",
    "    # data with noise\n",
    "    #noise_data = noise(data)\n",
    "    #res2 = extract_features(noise_data)\n",
    "    #result = np.vstack((result, res2)) # stacking vertically\n",
    "    \n",
    "    # data with stretching and pitching\n",
    "    #new_data = stretch(data)\n",
    "    #data_stretch_pitch = pitch(new_data, sr=sample_rate)\n",
    "    #res3 = extract_features(data_stretch_pitch)\n",
    "    #result = np.vstack((result, res3)) # stacking vertically\n",
    "    \n",
    "    return result"
   ]
  },
  {
   "cell_type": "markdown",
   "id": "b7e10774",
   "metadata": {},
   "source": [
    "# Split the data"
   ]
  },
  {
   "cell_type": "markdown",
   "id": "99c4ece3",
   "metadata": {},
   "source": [
    "#x_train, x_test, y_train, y_test = train_test_split(np.array(x), np.array(y),random_state=0, shuffle=True, test_size=0.2)\n",
    "#x_train.shape, y_train.shape, x_test.shape, y_test.shape"
   ]
  },
  {
   "cell_type": "markdown",
   "id": "9c80a86a",
   "metadata": {},
   "source": [
    "#ORIGINAL\n",
    "# making our data compatible to model.\n",
    "#x_train = np.expand_dims(x_train, axis=2)\n",
    "#x_test = np.expand_dims(x_test, axis=2)\n",
    "#x_train.shape, y_train.shape, x_test.shape, y_test.shape"
   ]
  },
  {
   "cell_type": "markdown",
   "id": "2dafd3db",
   "metadata": {},
   "source": [
    "#x_train = x_train[:, np.newaxis]\n",
    "#x_test = x_test[:, np.newaxis]"
   ]
  },
  {
   "cell_type": "code",
   "execution_count": 62,
   "id": "3411297d",
   "metadata": {},
   "outputs": [
    {
     "data": {
      "text/plain": [
       "((1408, 162, 1), (1408, 3), (352, 162, 1), (352, 3))"
      ]
     },
     "execution_count": 62,
     "metadata": {},
     "output_type": "execute_result"
    }
   ],
   "source": [
    "x = []\n",
    "y = []\n",
    "for i in range(len(df_concat_OK)):\n",
    "    feature = get_features(df_concat_OK['Emission'].iloc[i])\n",
    "    x.append(feature)  # Append the extracted feature array directly\n",
    "    \n",
    "    label = df_concat_OK['Label'].iloc[i]\n",
    "    y.append(label)\n",
    "\n",
    "#Convertir lista a np.array\n",
    "x = np.vstack(x)\n",
    "y = np.array(y)\n",
    "\n",
    "le = LabelEncoder()\n",
    "y = utils.to_categorical(le.fit_transform(y))\n",
    "\n",
    "x_train, x_test, y_train, y_test = train_test_split(x, y, shuffle=True, test_size=0.2)\n",
    "\n",
    "#Agregar una dimension extra ---> 1\n",
    "X_train = np.expand_dims(x_train, axis=2)\n",
    "X_test = np.expand_dims(x_test, axis=2)\n",
    "\n",
    "X_train.shape, y_train.shape, X_test.shape, y_test.shape"
   ]
  },
  {
   "cell_type": "code",
   "execution_count": 168,
   "id": "f5775b61",
   "metadata": {},
   "outputs": [
    {
     "data": {
      "text/plain": [
       "(162,)"
      ]
     },
     "execution_count": 168,
     "metadata": {},
     "output_type": "execute_result"
    }
   ],
   "source": [
    "x[0].shape"
   ]
  },
  {
   "cell_type": "code",
   "execution_count": 169,
   "id": "efcef771",
   "metadata": {},
   "outputs": [
    {
     "data": {
      "text/plain": [
       "(162,)"
      ]
     },
     "execution_count": 169,
     "metadata": {},
     "output_type": "execute_result"
    }
   ],
   "source": [
    "x[1].shape"
   ]
  },
  {
   "cell_type": "markdown",
   "id": "ae25a942",
   "metadata": {},
   "source": [
    "# Baseline model "
   ]
  },
  {
   "cell_type": "code",
   "execution_count": 63,
   "id": "16de8a93",
   "metadata": {},
   "outputs": [
    {
     "name": "stderr",
     "output_type": "stream",
     "text": [
      "2023-07-04 15:23:57.577215: W tensorflow/stream_executor/platform/default/dso_loader.cc:64] Could not load dynamic library 'libcuda.so.1'; dlerror: libcuda.so.1: cannot open shared object file: No such file or directory\n",
      "2023-07-04 15:23:57.585483: W tensorflow/stream_executor/cuda/cuda_driver.cc:263] failed call to cuInit: UNKNOWN ERROR (303)\n",
      "2023-07-04 15:23:57.585610: I tensorflow/stream_executor/cuda/cuda_diagnostics.cc:156] kernel driver does not appear to be running on this host (DESKTOP-QAN2JTD): /proc/driver/nvidia/version does not exist\n",
      "2023-07-04 15:23:57.608815: I tensorflow/core/platform/cpu_feature_guard.cc:193] This TensorFlow binary is optimized with oneAPI Deep Neural Network Library (oneDNN) to use the following CPU instructions in performance-critical operations:  AVX2 AVX512F AVX512_VNNI FMA\n",
      "To enable them in other operations, rebuild TensorFlow with the appropriate compiler flags.\n"
     ]
    },
    {
     "name": "stdout",
     "output_type": "stream",
     "text": [
      "Model: \"sequential\"\n",
      "_________________________________________________________________\n",
      " Layer (type)                Output Shape              Param #   \n",
      "=================================================================\n",
      " conv1d (Conv1D)             (None, 161, 64)           192       \n",
      "                                                                 \n",
      " max_pooling1d (MaxPooling1D  (None, 161, 64)          0         \n",
      " )                                                               \n",
      "                                                                 \n",
      " conv1d_1 (Conv1D)           (None, 160, 256)          33024     \n",
      "                                                                 \n",
      " max_pooling1d_1 (MaxPooling  (None, 160, 256)         0         \n",
      " 1D)                                                             \n",
      "                                                                 \n",
      " conv1d_2 (Conv1D)           (None, 159, 256)          131328    \n",
      "                                                                 \n",
      " max_pooling1d_2 (MaxPooling  (None, 159, 256)         0         \n",
      " 1D)                                                             \n",
      "                                                                 \n",
      " conv1d_3 (Conv1D)           (None, 158, 1024)         525312    \n",
      "                                                                 \n",
      " max_pooling1d_3 (MaxPooling  (None, 158, 1024)        0         \n",
      " 1D)                                                             \n",
      "                                                                 \n",
      " flatten (Flatten)           (None, 161792)            0         \n",
      "                                                                 \n",
      " dense (Dense)               (None, 256)               41419008  \n",
      "                                                                 \n",
      " dropout (Dropout)           (None, 256)               0         \n",
      "                                                                 \n",
      " dense_1 (Dense)             (None, 256)               65792     \n",
      "                                                                 \n",
      " dropout_1 (Dropout)         (None, 256)               0         \n",
      "                                                                 \n",
      " dense_2 (Dense)             (None, 128)               32896     \n",
      "                                                                 \n",
      " dropout_2 (Dropout)         (None, 128)               0         \n",
      "                                                                 \n",
      " dense_3 (Dense)             (None, 3)                 387       \n",
      "                                                                 \n",
      "=================================================================\n",
      "Total params: 42,207,939\n",
      "Trainable params: 42,207,939\n",
      "Non-trainable params: 0\n",
      "_________________________________________________________________\n"
     ]
    }
   ],
   "source": [
    "callback = tf.keras.callbacks.EarlyStopping(monitor='loss',min_delta=0.05, patience=3)\n",
    "model = models.Sequential()\n",
    "model.add(layers.Conv1D(64, 2, activation='relu', input_shape=(x_train.shape[1], 1)))\n",
    "model.add(layers.MaxPooling1D((1)))\n",
    "model.add(layers.Conv1D(256, 2, activation='relu'))\n",
    "model.add(layers.MaxPooling1D((1)))\n",
    "model.add(layers.Conv1D(256, 2, activation='relu'))\n",
    "model.add(layers.MaxPooling1D((1)))\n",
    "model.add(layers.Conv1D(1024, 2, activation='relu'))\n",
    "model.add(layers.MaxPooling1D((1)))\n",
    "model.add(layers.Flatten())\n",
    "model.add(layers.Dense(256, activation='relu'))\n",
    "model.add(layers.Dropout(0.3))\n",
    "model.add(layers.Dense(256, activation='relu'))\n",
    "model.add(layers.Dropout(0.3))\n",
    "model.add(layers.Dense(128, activation='relu'))\n",
    "model.add(layers.Dropout(0.3))\n",
    "model.add(layers.Dense(3, activation='softmax'))\n",
    "\n",
    "model.compile(loss='categorical_crossentropy',\n",
    "             optimizer='RMSprop',\n",
    "             metrics=['accuracy'])\n",
    "\n",
    "model.summary()"
   ]
  },
  {
   "cell_type": "code",
   "execution_count": 64,
   "id": "f3610313",
   "metadata": {},
   "outputs": [
    {
     "name": "stdout",
     "output_type": "stream",
     "text": [
      "Epoch 1/24\n",
      "13/13 [==============================] - 45s 3s/step - loss: 6.3229 - accuracy: 0.4325 - val_loss: 0.9514 - val_accuracy: 0.5028\n",
      "Epoch 2/24\n",
      "13/13 [==============================] - 21s 2s/step - loss: 0.8897 - accuracy: 0.5732 - val_loss: 0.7994 - val_accuracy: 0.6335\n",
      "Epoch 3/24\n",
      "13/13 [==============================] - 20s 2s/step - loss: 0.8485 - accuracy: 0.6037 - val_loss: 0.6726 - val_accuracy: 0.6818\n",
      "Epoch 4/24\n",
      "13/13 [==============================] - 10s 719ms/step - loss: 0.7119 - accuracy: 0.6740 - val_loss: 0.5853 - val_accuracy: 0.7443\n",
      "Epoch 5/24\n",
      "13/13 [==============================] - 10s 804ms/step - loss: 0.7447 - accuracy: 0.6548 - val_loss: 0.5640 - val_accuracy: 0.7159\n",
      "Epoch 6/24\n",
      "13/13 [==============================] - 11s 819ms/step - loss: 0.5652 - accuracy: 0.7372 - val_loss: 0.5084 - val_accuracy: 0.7670\n",
      "Epoch 7/24\n",
      "13/13 [==============================] - 11s 837ms/step - loss: 0.5617 - accuracy: 0.7614 - val_loss: 0.6808 - val_accuracy: 0.6420\n",
      "Epoch 8/24\n",
      "13/13 [==============================] - 11s 827ms/step - loss: 0.4733 - accuracy: 0.7898 - val_loss: 0.8191 - val_accuracy: 0.6051\n",
      "Epoch 9/24\n",
      "13/13 [==============================] - 11s 828ms/step - loss: 0.4266 - accuracy: 0.8125 - val_loss: 0.2735 - val_accuracy: 0.8636\n",
      "Epoch 10/24\n",
      "13/13 [==============================] - 11s 811ms/step - loss: 0.2985 - accuracy: 0.8807 - val_loss: 0.3122 - val_accuracy: 0.8438\n",
      "Epoch 11/24\n",
      "13/13 [==============================] - 10s 809ms/step - loss: 0.4900 - accuracy: 0.8317 - val_loss: 0.2904 - val_accuracy: 0.8949\n",
      "Epoch 12/24\n",
      "13/13 [==============================] - 11s 830ms/step - loss: 0.2180 - accuracy: 0.9283 - val_loss: 0.1601 - val_accuracy: 0.9347\n",
      "Epoch 13/24\n",
      "13/13 [==============================] - 10s 799ms/step - loss: 0.2189 - accuracy: 0.9183 - val_loss: 0.1735 - val_accuracy: 0.9460\n",
      "Epoch 14/24\n",
      "13/13 [==============================] - 10s 754ms/step - loss: 0.4829 - accuracy: 0.9311 - val_loss: 0.8851 - val_accuracy: 0.6449\n",
      "Epoch 15/24\n",
      "13/13 [==============================] - 10s 781ms/step - loss: 0.2276 - accuracy: 0.9254 - val_loss: 0.0899 - val_accuracy: 0.9602\n",
      "Epoch 16/24\n",
      "13/13 [==============================] - 10s 766ms/step - loss: 0.1588 - accuracy: 0.9517 - val_loss: 0.0736 - val_accuracy: 0.9858\n",
      "Epoch 17/24\n",
      "13/13 [==============================] - 10s 757ms/step - loss: 0.1314 - accuracy: 0.9609 - val_loss: 0.0729 - val_accuracy: 0.9631\n",
      "Epoch 18/24\n",
      "13/13 [==============================] - 10s 762ms/step - loss: 0.0491 - accuracy: 0.9879 - val_loss: 0.0309 - val_accuracy: 0.9915\n",
      "Epoch 19/24\n",
      "13/13 [==============================] - 10s 767ms/step - loss: 0.2783 - accuracy: 0.9382 - val_loss: 0.0373 - val_accuracy: 0.9915\n",
      "Epoch 20/24\n",
      "13/13 [==============================] - 10s 810ms/step - loss: 0.0382 - accuracy: 0.9922 - val_loss: 0.0589 - val_accuracy: 0.9801\n",
      "Epoch 21/24\n",
      "13/13 [==============================] - 10s 788ms/step - loss: 0.0403 - accuracy: 0.9851 - val_loss: 0.0622 - val_accuracy: 0.9773\n",
      "Epoch 22/24\n",
      "13/13 [==============================] - 10s 800ms/step - loss: 0.0988 - accuracy: 0.9709 - val_loss: 0.0779 - val_accuracy: 0.9688\n",
      "Epoch 23/24\n",
      "13/13 [==============================] - 10s 781ms/step - loss: 0.0711 - accuracy: 0.9730 - val_loss: 0.0900 - val_accuracy: 0.9716\n",
      "Epoch 24/24\n",
      "13/13 [==============================] - 10s 774ms/step - loss: 0.0679 - accuracy: 0.9794 - val_loss: 0.0451 - val_accuracy: 0.9915\n",
      "Time to train the model: 5.09 mins\n"
     ]
    }
   ],
   "source": [
    "t = time()\n",
    "history = model.fit(x_train, y_train,\n",
    "                    epochs=24,\n",
    "                    batch_size=110,\n",
    "                    validation_data=(X_test, y_test))\n",
    "print('Time to train the model: {} mins'.format(round((time() - t) / 60, 2)))"
   ]
  },
  {
   "cell_type": "code",
   "execution_count": null,
   "id": "7850df22",
   "metadata": {},
   "outputs": [],
   "source": [
    "#!pip install pyyaml h5py  # Required to save models in HDF5 format\n",
    "#model.save('./model3.h5')"
   ]
  },
  {
   "cell_type": "markdown",
   "id": "f6766f89",
   "metadata": {},
   "source": [
    "# Evaluation "
   ]
  },
  {
   "cell_type": "code",
   "execution_count": 65,
   "id": "59263448",
   "metadata": {},
   "outputs": [
    {
     "name": "stdout",
     "output_type": "stream",
     "text": [
      "11/11 [==============================] - 1s 90ms/step - loss: 0.0451 - accuracy: 0.9915\n",
      "Accuracy of our model on test data :  99.14772510528564 %\n"
     ]
    },
    {
     "data": {
      "image/png": "[encoded data removed]",
      "text/plain": [
       "<Figure size 2000x600 with 2 Axes>"
      ]
     },
     "metadata": {},
     "output_type": "display_data"
    }
   ],
   "source": [
    "print(\"Accuracy of our model on test data : \" , model.evaluate(X_test,y_test)[1]*100 , \"%\")\n",
    "\n",
    "epochs = [i for i in range(24)]\n",
    "fig , ax = plt.subplots(1,2)\n",
    "train_acc = history.history['accuracy']\n",
    "train_loss = history.history['loss']\n",
    "test_acc = history.history['val_accuracy']\n",
    "test_loss = history.history['val_loss']\n",
    "\n",
    "fig.set_size_inches(20,6)\n",
    "ax[0].plot(epochs , train_loss , label = 'Training Loss')\n",
    "ax[0].plot(epochs , test_loss , label = 'Testing Loss')\n",
    "ax[0].set_title('Training & Testing Loss')\n",
    "ax[0].legend()\n",
    "ax[0].set_xlabel(\"Epochs\")\n",
    "\n",
    "ax[1].plot(epochs , train_acc , label = 'Training Accuracy')\n",
    "ax[1].plot(epochs , test_acc , label = 'Testing Accuracy')\n",
    "ax[1].set_title('Training & Testing Accuracy')\n",
    "ax[1].legend()\n",
    "ax[1].set_xlabel(\"Epochs\")\n",
    "plt.show()"
   ]
  },
  {
   "cell_type": "code",
   "execution_count": 66,
   "id": "117008ad",
   "metadata": {},
   "outputs": [
    {
     "name": "stdout",
     "output_type": "stream",
     "text": [
      "1408\n",
      "352\n",
      "1408\n",
      "352\n"
     ]
    }
   ],
   "source": [
    "print(len(x_train))\n",
    "print(len(x_test))\n",
    "print(len(y_train))\n",
    "print(len(y_test))"
   ]
  },
  {
   "cell_type": "code",
   "execution_count": 67,
   "id": "c96bae74",
   "metadata": {
    "scrolled": true
   },
   "outputs": [
    {
     "name": "stdout",
     "output_type": "stream",
     "text": [
      "11/11 [==============================] - 1s 87ms/step\n"
     ]
    }
   ],
   "source": [
    "y_pred = model.predict(x_test)"
   ]
  },
  {
   "cell_type": "code",
   "execution_count": 68,
   "id": "76c0ca62",
   "metadata": {},
   "outputs": [
    {
     "data": {
      "text/plain": [
       "array([[4.8943464e-16, 9.9999994e-01, 4.7149721e-15],\n",
       "       [9.9999827e-01, 8.9808071e-07, 7.7057581e-07],\n",
       "       [0.0000000e+00, 9.9999994e-01, 0.0000000e+00],\n",
       "       ...,\n",
       "       [8.6608969e-05, 9.8516291e-01, 1.4750558e-02],\n",
       "       [9.8485011e-01, 4.8816726e-03, 1.0268188e-02],\n",
       "       [3.8957560e-06, 9.9999601e-01, 2.3239869e-08]], dtype=float32)"
      ]
     },
     "execution_count": 68,
     "metadata": {},
     "output_type": "execute_result"
    }
   ],
   "source": [
    "y_pred"
   ]
  },
  {
   "cell_type": "code",
   "execution_count": 69,
   "id": "a4032d1e",
   "metadata": {},
   "outputs": [],
   "source": [
    "predicted_classes = np.argmax(y_pred, axis=1)"
   ]
  },
  {
   "cell_type": "code",
   "execution_count": 70,
   "id": "7b7b86fa",
   "metadata": {},
   "outputs": [
    {
     "data": {
      "text/plain": [
       "array([[0., 1., 0.],\n",
       "       [1., 0., 0.],\n",
       "       [0., 1., 0.],\n",
       "       ...,\n",
       "       [0., 1., 0.],\n",
       "       [1., 0., 0.],\n",
       "       [0., 1., 0.]], dtype=float32)"
      ]
     },
     "execution_count": 70,
     "metadata": {},
     "output_type": "execute_result"
    }
   ],
   "source": [
    "y_test"
   ]
  },
  {
   "cell_type": "code",
   "execution_count": 71,
   "id": "999957d4",
   "metadata": {},
   "outputs": [],
   "source": [
    "y_test_classes = np.argmax(y_test, axis=1)"
   ]
  },
  {
   "cell_type": "code",
   "execution_count": 72,
   "id": "9ba5aad3",
   "metadata": {},
   "outputs": [
    {
     "data": {
      "text/plain": [
       "array([1, 0, 1, 2, 0, 0, 1, 0, 1, 2, 2, 1, 1, 1, 1, 0, 1, 1, 1, 0, 1, 1,\n",
       "       2, 2, 1, 1, 2, 1, 1, 1, 1, 0, 0, 1, 1, 0, 2, 0, 2, 0, 2, 2, 0, 2,\n",
       "       0, 2, 0, 1, 1, 2, 0, 0, 1, 0, 1, 1, 0, 0, 2, 1, 0, 1, 2, 1, 2, 1,\n",
       "       1, 1, 1, 1, 0, 0, 1, 1, 2, 0, 0, 1, 0, 1, 2, 1, 2, 1, 1, 0, 1, 2,\n",
       "       2, 0, 0, 1, 1, 1, 0, 0, 1, 0, 1, 1, 1, 1, 1, 1, 1, 1, 0, 2, 1, 2,\n",
       "       1, 0, 0, 2, 2, 1, 1, 0, 1, 1, 2, 0, 1, 0, 2, 1, 1, 2, 0, 0, 0, 1,\n",
       "       0, 1, 1, 1, 1, 0, 2, 2, 2, 2, 0, 1, 0, 1, 1, 1, 1, 2, 0, 1, 0, 1,\n",
       "       2, 0, 1, 1, 2, 1, 0, 1, 1, 1, 1, 0, 1, 0, 2, 2, 1, 1, 1, 1, 2, 0,\n",
       "       2, 2, 1, 1, 2, 1, 1, 0, 1, 2, 1, 1, 2, 1, 1, 2, 1, 0, 0, 0, 0, 1,\n",
       "       0, 2, 0, 1, 0, 1, 1, 0, 1, 0, 0, 0, 0, 1, 1, 0, 1, 1, 1, 2, 1, 1,\n",
       "       1, 0, 2, 1, 0, 0, 1, 0, 1, 1, 0, 0, 0, 1, 0, 2, 1, 1, 0, 0, 1, 0,\n",
       "       1, 1, 0, 0, 1, 1, 0, 1, 0, 1, 1, 2, 1, 1, 1, 0, 1, 1, 1, 1, 0, 2,\n",
       "       2, 1, 1, 1, 2, 2, 0, 0, 0, 0, 1, 1, 0, 1, 1, 2, 0, 1, 1, 2, 1, 2,\n",
       "       2, 1, 0, 1, 0, 0, 1, 2, 2, 2, 1, 1, 0, 1, 0, 1, 1, 2, 0, 2, 1, 1,\n",
       "       2, 1, 1, 2, 2, 1, 1, 1, 2, 2, 0, 2, 0, 1, 1, 1, 1, 0, 1, 0, 1, 0,\n",
       "       1, 0, 1, 1, 1, 1, 2, 1, 0, 2, 0, 1, 1, 2, 2, 1, 1, 1, 1, 1, 0, 1])"
      ]
     },
     "execution_count": 72,
     "metadata": {},
     "output_type": "execute_result"
    }
   ],
   "source": [
    "y_test_classes"
   ]
  },
  {
   "cell_type": "code",
   "execution_count": 73,
   "id": "eaed70e2",
   "metadata": {
    "scrolled": false
   },
   "outputs": [
    {
     "data": {
      "text/plain": [
       "array([1, 0, 1, 2, 0, 0, 1, 0, 1, 2, 2, 1, 1, 1, 1, 0, 1, 1, 1, 0, 1, 1,\n",
       "       2, 2, 1, 1, 2, 0, 1, 1, 1, 0, 0, 1, 1, 0, 2, 0, 2, 0, 2, 2, 0, 2,\n",
       "       0, 2, 0, 1, 1, 2, 0, 0, 1, 0, 1, 1, 0, 0, 2, 1, 0, 1, 2, 1, 2, 1,\n",
       "       1, 1, 1, 1, 0, 0, 1, 1, 2, 0, 0, 1, 0, 1, 2, 1, 2, 1, 1, 0, 1, 2,\n",
       "       2, 0, 0, 1, 1, 1, 0, 0, 1, 0, 1, 1, 1, 1, 1, 1, 1, 1, 0, 2, 1, 2,\n",
       "       1, 0, 0, 2, 2, 1, 1, 0, 1, 1, 2, 0, 1, 0, 2, 1, 1, 2, 0, 0, 0, 1,\n",
       "       0, 1, 1, 1, 1, 0, 2, 2, 2, 2, 0, 1, 0, 1, 1, 1, 1, 2, 0, 1, 0, 1,\n",
       "       2, 0, 1, 1, 2, 1, 0, 1, 1, 1, 1, 0, 1, 0, 2, 2, 1, 1, 1, 1, 2, 0,\n",
       "       2, 2, 1, 1, 2, 1, 1, 0, 1, 2, 1, 0, 2, 1, 1, 2, 1, 0, 0, 0, 0, 1,\n",
       "       0, 2, 0, 1, 0, 1, 1, 0, 1, 0, 0, 0, 0, 1, 0, 0, 1, 1, 1, 2, 1, 1,\n",
       "       1, 0, 2, 1, 0, 0, 1, 0, 1, 1, 0, 0, 0, 1, 0, 2, 1, 1, 0, 0, 1, 0,\n",
       "       1, 1, 0, 0, 1, 1, 0, 1, 0, 1, 1, 2, 1, 1, 1, 0, 1, 1, 1, 1, 0, 2,\n",
       "       2, 1, 1, 1, 2, 2, 0, 0, 0, 0, 1, 1, 0, 1, 1, 2, 0, 1, 1, 2, 1, 2,\n",
       "       2, 1, 0, 1, 0, 0, 1, 2, 2, 2, 1, 1, 0, 1, 0, 1, 1, 2, 0, 2, 1, 1,\n",
       "       2, 1, 1, 2, 2, 1, 1, 1, 2, 2, 0, 2, 0, 1, 1, 1, 1, 0, 1, 0, 1, 0,\n",
       "       1, 0, 1, 1, 1, 1, 2, 1, 0, 2, 0, 1, 1, 2, 2, 1, 1, 1, 1, 1, 0, 1])"
      ]
     },
     "execution_count": 73,
     "metadata": {},
     "output_type": "execute_result"
    }
   ],
   "source": [
    "predicted_classes"
   ]
  },
  {
   "cell_type": "code",
   "execution_count": 74,
   "id": "143ab92a",
   "metadata": {},
   "outputs": [
    {
     "name": "stdout",
     "output_type": "stream",
     "text": [
      "Accuracy: 0.9914772727272727\n"
     ]
    }
   ],
   "source": [
    "por_favor_Dios_dame_un_buen_numero = 0\n",
    "\n",
    "for i in range(len(predicted_classes)):\n",
    "    if predicted_classes[i] == y_test_classes[i]:\n",
    "        por_favor_Dios_dame_un_buen_numero += 1\n",
    "\n",
    "accuracy = por_favor_Dios_dame_un_buen_numero / len(predicted_classes)\n",
    "print(\"Accuracy:\", accuracy)"
   ]
  },
  {
   "cell_type": "code",
   "execution_count": null,
   "id": "5099252d",
   "metadata": {},
   "outputs": [],
   "source": []
  },
  {
   "cell_type": "code",
   "execution_count": 75,
   "id": "5ca0f56a",
   "metadata": {},
   "outputs": [
    {
     "name": "stdout",
     "output_type": "stream",
     "text": [
      "                                    precision    recall  f1-score   support\n",
      "\n",
      "                          Brushing       0.97      1.00      0.99       103\n",
      "Isolated in unfamiliar Environment       1.00      0.98      0.99       177\n",
      "                  Waiting For Food       1.00      1.00      1.00        72\n",
      "\n",
      "                          accuracy                           0.99       352\n",
      "                         macro avg       0.99      0.99      0.99       352\n",
      "                      weighted avg       0.99      0.99      0.99       352\n",
      "\n"
     ]
    }
   ],
   "source": [
    "names =['Brushing', 'Isolated in unfamiliar Environment', 'Waiting For Food']\n",
    "\n",
    "from sklearn.metrics import classification_report\n",
    "print(classification_report(y_test_classes, predicted_classes, target_names=names))"
   ]
  },
  {
   "cell_type": "markdown",
   "id": "0e795b58",
   "metadata": {},
   "source": [
    "-------"
   ]
  },
  {
   "cell_type": "markdown",
   "id": "ba9e9e86",
   "metadata": {},
   "source": [
    "# Prueba 2"
   ]
  },
  {
   "cell_type": "code",
   "execution_count": 87,
   "id": "de57b571",
   "metadata": {},
   "outputs": [],
   "source": [
    "prueba_extra = \"/home/fll_data_bata/code/Franloplam/DB Gatos/extras/sequences\""
   ]
  },
  {
   "cell_type": "code",
   "execution_count": 88,
   "id": "35611fe8",
   "metadata": {},
   "outputs": [],
   "source": [
    "prueba_extra_path = os.listdir(prueba_extra)"
   ]
  },
  {
   "cell_type": "code",
   "execution_count": 158,
   "id": "6110e24c",
   "metadata": {},
   "outputs": [
    {
     "data": {
      "text/plain": [
       "'I_BLE01_EU_FN_DEL01_4SEQ1.wav'"
      ]
     },
     "execution_count": 158,
     "metadata": {},
     "output_type": "execute_result"
    }
   ],
   "source": [
    "prueba_extra_path[0]"
   ]
  },
  {
   "cell_type": "code",
   "execution_count": 119,
   "id": "4e0fc73e",
   "metadata": {},
   "outputs": [],
   "source": [
    "df_prueba_extra = pd.DataFrame(columns=[\"Path_Prueba_Extra\"])"
   ]
  },
  {
   "cell_type": "code",
   "execution_count": 120,
   "id": "77eecc58",
   "metadata": {},
   "outputs": [],
   "source": [
    "df_prueba_extra[\"Path_Prueba_Extra\"] = [os.path.join(prueba_extra,i) for i in prueba_extra_path]"
   ]
  },
  {
   "cell_type": "code",
   "execution_count": 121,
   "id": "7af36666",
   "metadata": {},
   "outputs": [
    {
     "data": {
      "text/plain": [
       "'/home/fll_data_bata/code/Franloplam/DB Gatos/extras/sequences/F_BRI01_MC_FI_SIM01_1SEQ1.wav'"
      ]
     },
     "execution_count": 121,
     "metadata": {},
     "output_type": "execute_result"
    }
   ],
   "source": [
    "df_prueba_extra[\"Path_Prueba_Extra\"][25]"
   ]
  },
  {
   "cell_type": "code",
   "execution_count": 122,
   "id": "54cd3ba7",
   "metadata": {},
   "outputs": [],
   "source": [
    "df_prueba_extra['Arrays_Prueba_Extra'] = espectro_transform(df_prueba_extra[\"Path_Prueba_Extra\"]) #transformar a espectrogramas"
   ]
  },
  {
   "cell_type": "code",
   "execution_count": 133,
   "id": "79dfae51",
   "metadata": {},
   "outputs": [
    {
     "data": {
      "text/html": [
       "<div>\n",
       "<style scoped>\n",
       "    .dataframe tbody tr th:only-of-type {\n",
       "        vertical-align: middle;\n",
       "    }\n",
       "\n",
       "    .dataframe tbody tr th {\n",
       "        vertical-align: top;\n",
       "    }\n",
       "\n",
       "    .dataframe thead th {\n",
       "        text-align: right;\n",
       "    }\n",
       "</style>\n",
       "<table border=\"1\" class=\"dataframe\">\n",
       "  <thead>\n",
       "    <tr style=\"text-align: right;\">\n",
       "      <th></th>\n",
       "      <th>Path_Prueba_Extra</th>\n",
       "      <th>Arrays_Prueba_Extra</th>\n",
       "    </tr>\n",
       "  </thead>\n",
       "  <tbody>\n",
       "    <tr>\n",
       "      <th>0</th>\n",
       "      <td>/home/fll_data_bata/code/Franloplam/DB Gatos/e...</td>\n",
       "      <td>[-2.8510738e-05, -1.7171827e-05, 5.451635e-06,...</td>\n",
       "    </tr>\n",
       "    <tr>\n",
       "      <th>1</th>\n",
       "      <td>/home/fll_data_bata/code/Franloplam/DB Gatos/e...</td>\n",
       "      <td>[3.711166e-05, 3.4186847e-05, 3.7627196e-05, 5...</td>\n",
       "    </tr>\n",
       "    <tr>\n",
       "      <th>2</th>\n",
       "      <td>/home/fll_data_bata/code/Franloplam/DB Gatos/e...</td>\n",
       "      <td>[-9.386457e-05, -9.0549554e-05, -5.8146456e-05...</td>\n",
       "    </tr>\n",
       "    <tr>\n",
       "      <th>3</th>\n",
       "      <td>/home/fll_data_bata/code/Franloplam/DB Gatos/e...</td>\n",
       "      <td>[-0.000979813, -0.0009797369, -0.000821513, -0...</td>\n",
       "    </tr>\n",
       "    <tr>\n",
       "      <th>4</th>\n",
       "      <td>/home/fll_data_bata/code/Franloplam/DB Gatos/e...</td>\n",
       "      <td>[-0.00059171487, -0.00074429053, -0.0008618899...</td>\n",
       "    </tr>\n",
       "  </tbody>\n",
       "</table>\n",
       "</div>"
      ],
      "text/plain": [
       "                                   Path_Prueba_Extra  \\\n",
       "0  /home/fll_data_bata/code/Franloplam/DB Gatos/e...   \n",
       "1  /home/fll_data_bata/code/Franloplam/DB Gatos/e...   \n",
       "2  /home/fll_data_bata/code/Franloplam/DB Gatos/e...   \n",
       "3  /home/fll_data_bata/code/Franloplam/DB Gatos/e...   \n",
       "4  /home/fll_data_bata/code/Franloplam/DB Gatos/e...   \n",
       "\n",
       "                                 Arrays_Prueba_Extra  \n",
       "0  [-2.8510738e-05, -1.7171827e-05, 5.451635e-06,...  \n",
       "1  [3.711166e-05, 3.4186847e-05, 3.7627196e-05, 5...  \n",
       "2  [-9.386457e-05, -9.0549554e-05, -5.8146456e-05...  \n",
       "3  [-0.000979813, -0.0009797369, -0.000821513, -0...  \n",
       "4  [-0.00059171487, -0.00074429053, -0.0008618899...  "
      ]
     },
     "execution_count": 133,
     "metadata": {},
     "output_type": "execute_result"
    }
   ],
   "source": [
    "df_prueba_extra.head()"
   ]
  },
  {
   "cell_type": "code",
   "execution_count": 147,
   "id": "a310441d",
   "metadata": {},
   "outputs": [
    {
     "data": {
      "text/plain": [
       "(375997,)"
      ]
     },
     "execution_count": 147,
     "metadata": {},
     "output_type": "execute_result"
    }
   ],
   "source": [
    "df_prueba_extra[\"Arrays_Prueba_Extra\"][0].shape"
   ]
  },
  {
   "cell_type": "code",
   "execution_count": 152,
   "id": "6dec6946",
   "metadata": {},
   "outputs": [
    {
     "data": {
      "text/plain": [
       "(739028,)"
      ]
     },
     "execution_count": 152,
     "metadata": {},
     "output_type": "execute_result"
    }
   ],
   "source": [
    "df_prueba_extra[\"Arrays_Prueba_Extra\"][1].shape"
   ]
  },
  {
   "cell_type": "code",
   "execution_count": 153,
   "id": "3b8a01ad",
   "metadata": {},
   "outputs": [
    {
     "data": {
      "text/plain": [
       "(542414,)"
      ]
     },
     "execution_count": 153,
     "metadata": {},
     "output_type": "execute_result"
    }
   ],
   "source": [
    "df_prueba_extra[\"Arrays_Prueba_Extra\"][2].shape"
   ]
  },
  {
   "cell_type": "code",
   "execution_count": 170,
   "id": "fc7f0491",
   "metadata": {},
   "outputs": [],
   "source": [
    "#Extraer features\n",
    "\n",
    "x_prueba_extra = []\n",
    "\n",
    "for i in range(len(df_prueba_extra)):\n",
    "    feature_prueba_extra = get_features(df_prueba_extra['Path_Prueba_Extra'].iloc[i])\n",
    "    x_prueba_extra.append(feature_prueba_extra)"
   ]
  },
  {
   "cell_type": "code",
   "execution_count": 175,
   "id": "213c68a4",
   "metadata": {},
   "outputs": [
    {
     "data": {
      "text/plain": [
       "30"
      ]
     },
     "execution_count": 175,
     "metadata": {},
     "output_type": "execute_result"
    }
   ],
   "source": [
    "len(x_prueba_extra)"
   ]
  },
  {
   "cell_type": "code",
   "execution_count": 176,
   "id": "d9007ce8",
   "metadata": {},
   "outputs": [],
   "source": [
    "#Convertir lista a np.array\n",
    "\n",
    "x_prueba_extra = np.vstack(x_prueba_extra)"
   ]
  },
  {
   "cell_type": "code",
   "execution_count": 178,
   "id": "74658cbf",
   "metadata": {},
   "outputs": [
    {
     "data": {
      "text/plain": [
       "(30, 162)"
      ]
     },
     "execution_count": 178,
     "metadata": {},
     "output_type": "execute_result"
    }
   ],
   "source": [
    "x_prueba_extra.shape"
   ]
  },
  {
   "cell_type": "code",
   "execution_count": 179,
   "id": "1bcec1e6",
   "metadata": {},
   "outputs": [],
   "source": [
    "#Agregar dimension\n",
    "\n",
    "x_prueba_extra = np.expand_dims(x_prueba_extra, axis=2)"
   ]
  },
  {
   "cell_type": "code",
   "execution_count": 180,
   "id": "804025bd",
   "metadata": {},
   "outputs": [
    {
     "data": {
      "text/plain": [
       "(30, 162, 1)"
      ]
     },
     "execution_count": 180,
     "metadata": {},
     "output_type": "execute_result"
    }
   ],
   "source": [
    "x_prueba_extra.shape"
   ]
  },
  {
   "cell_type": "code",
   "execution_count": 181,
   "id": "270a3fc0",
   "metadata": {},
   "outputs": [
    {
     "name": "stdout",
     "output_type": "stream",
     "text": [
      "1/1 [==============================] - 15s 15s/step\n"
     ]
    }
   ],
   "source": [
    "predict_prueba = model.predict(x_prueba_extra)"
   ]
  },
  {
   "cell_type": "code",
   "execution_count": 182,
   "id": "39ea652d",
   "metadata": {},
   "outputs": [],
   "source": [
    "prediction_prueba_extra = np.argmax(predict_prueba, axis=1)"
   ]
  },
  {
   "cell_type": "code",
   "execution_count": 185,
   "id": "6f38df98",
   "metadata": {},
   "outputs": [
    {
     "data": {
      "text/plain": [
       "array([1, 1, 2, 0, 2, 1, 1, 1, 1, 0, 1, 0, 0, 1, 1, 1, 1, 1, 1, 2, 1, 1,\n",
       "       1, 1, 0, 2, 1, 1, 1, 1])"
      ]
     },
     "execution_count": 185,
     "metadata": {},
     "output_type": "execute_result"
    }
   ],
   "source": [
    "prediction_prueba_extra"
   ]
  },
  {
   "cell_type": "code",
   "execution_count": 201,
   "id": "c9f41b69",
   "metadata": {},
   "outputs": [
    {
     "name": "stdout",
     "output_type": "stream",
     "text": [
      "I_BLE01_EU_FN_DEL01_4SEQ1.wav\n",
      "I_BLE01_EU_FN_DEL01_3SEQ2.wav\n",
      "F_SPI01_EU_MN_NAI01_1SEQ1.wav\n",
      "B_WHO01_MC_FI_SIM01_1SEQ1.wav\n",
      "F_WHO01_MC_FI_SIM01_1SEQ1.wav\n",
      "I_WHO01_MC_FI_SIM01_1SEQ1.wav\n",
      "I_BLE01_EU_FN_DEL01_2SEQ1.wav\n",
      "I_CLE01_EU_FN_FER01_1SEQ2.wav\n",
      "I_BLE01_EU_FN_DEL01_1SEQ1.wav\n",
      "B_CAN01_EU_FN_GIA01_2SEQ1.wav\n",
      "I_DAK01_MC_FN_SIM01_3SEQ1.wav\n",
      "B_CAN01_EU_FN_GIA01_3SEQ1.wav\n",
      "B_CAN01_EU_FN_GIA01_1SEQ1.wav\n",
      "I_MEG01_MC_FI_SIM01_1SEQ1.wav\n",
      "I_SPI01_EU_MN_NAI01_2SEQ1.wav\n",
      "I_CAN01_EU_FN_GIA01_3SEQ1.wav\n",
      "I_ANI01_MC_FN_SIM01_1SEQ1.wav\n",
      "I_CAN01_EU_FN_GIA01_2SEQ1.wav\n",
      "I_DAK01_MC_FN_SIM01_1SEQ2.wav\n",
      "F_IND01_EU_FN_ELI01_1SEQ1.wav\n",
      "B_CAN01_EU_FN_GIA01_2SEQ2.wav\n",
      "I_BLE01_EU_FN_DEL01_2SEQ2.wav\n",
      "I_CLE01_EU_FN_FER01_1SEQ1.wav\n",
      "I_SPI01_EU_MN_NAI01_1SEQ1.wav\n",
      "B_MIN01_EU_FN_BEN01_1SEQ1.wav\n",
      "F_BRI01_MC_FI_SIM01_1SEQ1.wav\n",
      "I_CAN01_EU_FN_GIA01_1SEQ1.wav\n",
      "I_DAK01_MC_FN_SIM01_1SEQ1.wav\n",
      "I_NUL01_MC_MI_SIM01_2SEQ1.wav\n",
      "I_BLE01_EU_FN_DEL01_3SEQ1.wav\n"
     ]
    }
   ],
   "source": [
    "for i in df_prueba_extra[\"Path_Prueba_Extra\"]:\n",
    "    i = i.split(\"/\")\n",
    "    print(i[-1])"
   ]
  },
  {
   "cell_type": "code",
   "execution_count": null,
   "id": "631f911a",
   "metadata": {},
   "outputs": [],
   "source": []
  },
  {
   "cell_type": "code",
   "execution_count": null,
   "id": "5378e9b8",
   "metadata": {},
   "outputs": [],
   "source": []
  },
  {
   "cell_type": "code",
   "execution_count": null,
   "id": "7f784c03",
   "metadata": {},
   "outputs": [],
   "source": []
  },
  {
   "cell_type": "code",
   "execution_count": null,
   "id": "a927657a",
   "metadata": {},
   "outputs": [],
   "source": []
  },
  {
   "cell_type": "code",
   "execution_count": null,
   "id": "981b88c2",
   "metadata": {},
   "outputs": [],
   "source": []
  },
  {
   "cell_type": "code",
   "execution_count": null,
   "id": "12a36b02",
   "metadata": {},
   "outputs": [],
   "source": []
  },
  {
   "cell_type": "code",
   "execution_count": null,
   "id": "682d0cc7",
   "metadata": {},
   "outputs": [],
   "source": []
  },
  {
   "cell_type": "code",
   "execution_count": null,
   "id": "b5ac86aa",
   "metadata": {},
   "outputs": [],
   "source": [
    "#y_pred = model.predict(x_test)\n",
    "#matrix = confusion_matrix(y_test.argmax(axis=1), y_pred.argmax(axis=1))\n",
    "#ax = sns.heatmap(matrix, annot=True, fmt=\"d\", cmap = 'rocket_r', xticklabels = ['Waiting For Food', 'Isolated in unfamiliar Environment', 'Brushing'], yticklabels = ['Waiting For Food', 'Isolated in unfamiliar Environment', 'Brushing'])\n",
    "#plt.title('Confusion Matrix', size=20)\n",
    "#plt.xlabel('Predicted Labels', size=14)\n",
    "#plt.ylabel('Actual Labels', size=14)\n",
    "#plt.show()"
   ]
  },
  {
   "cell_type": "code",
   "execution_count": null,
   "id": "b37bdd46",
   "metadata": {},
   "outputs": [],
   "source": []
  }
 ],
 "metadata": {
  "kernelspec": {
   "display_name": "Python 3 (ipykernel)",
   "language": "python",
   "name": "python3"
  },
  "language_info": {
   "codemirror_mode": {
    "name": "ipython",
    "version": 3
   },
   "file_extension": ".py",
   "mimetype": "text/x-python",
   "name": "python",
   "nbconvert_exporter": "python",
   "pygments_lexer": "ipython3",
   "version": "3.10.6"
  },
  "toc": {
   "base_numbering": 1,
   "nav_menu": {},
   "number_sections": true,
   "sideBar": true,
   "skip_h1_title": false,
   "title_cell": "Table of Contents",
   "title_sidebar": "Contents",
   "toc_cell": false,
   "toc_position": {},
   "toc_section_display": true,
   "toc_window_display": false
  }
 },
 "nbformat": 4,
 "nbformat_minor": 5
}
